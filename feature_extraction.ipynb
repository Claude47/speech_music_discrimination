{
  "nbformat": 4,
  "nbformat_minor": 0,
  "metadata": {
    "colab": {
      "name": "feature_extraction.ipynb",
      "version": "0.3.2",
      "provenance": [],
      "collapsed_sections": []
    },
    "kernelspec": {
      "name": "python3",
      "display_name": "Python 3"
    }
  },
  "cells": [
    {
      "cell_type": "markdown",
      "metadata": {
        "id": "view-in-github",
        "colab_type": "text"
      },
      "source": [
        "[View in Colaboratory](https://colab.research.google.com/github/Claude47/speech_music_discrimination/blob/master/feature_extraction.ipynb)"
      ]
    },
    {
      "metadata": {
        "id": "mh-GQvW2Rrv4",
        "colab_type": "text"
      },
      "cell_type": "markdown",
      "source": [
        "Sound Class"
      ]
    },
    {
      "metadata": {
        "id": "nreLXnmhmlPy",
        "colab_type": "code",
        "colab": {
          "base_uri": "https://localhost:8080/",
          "height": 224
        },
        "outputId": "6ee13795-ec50-4bd1-9187-af84ae685ae5"
      },
      "cell_type": "code",
      "source": [
        "!pip install dropbox"
      ],
      "execution_count": 4,
      "outputs": [
        {
          "output_type": "stream",
          "text": [
            "Collecting dropbox\n",
            "  Downloading https://files.pythonhosted.org/packages/79/51/a43d8649485d2866414567c7adb80387c926a05499a89bb5812563bc5388/dropbox-8.7.1-py3-none-any.whl (463kB)\n",
            "\u001b[K    100% |████████████████████████████████| 471kB 1.7MB/s \n",
            "\u001b[?25hRequirement already satisfied: requests>=2.16.2 in /usr/local/lib/python3.6/dist-packages (from dropbox)\n",
            "Requirement already satisfied: six>=1.3.0 in /usr/local/lib/python3.6/dist-packages (from dropbox)\n",
            "Requirement already satisfied: idna<2.7,>=2.5 in /usr/local/lib/python3.6/dist-packages (from requests>=2.16.2->dropbox)\n",
            "Requirement already satisfied: chardet<3.1.0,>=3.0.2 in /usr/local/lib/python3.6/dist-packages (from requests>=2.16.2->dropbox)\n",
            "Requirement already satisfied: urllib3<1.23,>=1.21.1 in /usr/local/lib/python3.6/dist-packages (from requests>=2.16.2->dropbox)\n",
            "Requirement already satisfied: certifi>=2017.4.17 in /usr/local/lib/python3.6/dist-packages (from requests>=2.16.2->dropbox)\n",
            "Installing collected packages: dropbox\n",
            "Successfully installed dropbox-8.7.1\n"
          ],
          "name": "stdout"
        }
      ]
    },
    {
      "metadata": {
        "id": "tjzqM8bcNXry",
        "colab_type": "code",
        "colab": {}
      },
      "cell_type": "code",
      "source": [
        "import numpy as np\n",
        "import scipy as sc\n",
        "from scipy.signal import welch\n",
        "from scipy.fftpack import fft\n",
        "from scipy.fftpack import dct \n",
        "from scipy.fftpack import dst\n",
        "import scipy.stats as stats\n",
        "import matplotlib.pyplot as plt\n",
        "%matplotlib inline\n",
        "import wave\n",
        "from os.path import *\n",
        "import os\n",
        "from functools import partial\n",
        "import dropbox\n",
        "\n",
        "from google.colab import files\n",
        "import struct\n",
        "from sklearn.cluster import KMeans"
      ],
      "execution_count": 0,
      "outputs": []
    },
    {
      "metadata": {
        "id": "RtFvtUI9NDa4",
        "colab_type": "code",
        "colab": {}
      },
      "cell_type": "code",
      "source": [
        "def upload_local_file():\n",
        "    '''used to upload local .wav files f'''\n",
        "    uploaded = files.upload()\n",
        "\n",
        "    for fn in uploaded.keys():\n",
        "        print('User uploaded file \"{name}\" with length {length} bytes'.format(\n",
        "            name=fn, length=len(uploaded[fn])))\n",
        "\n",
        "class sound:    \n",
        "    raw_audio = 0\n",
        "    def __init__(self, path, from_drive=False, dbx_access_token='jym07rxV7JAAAAAAAAAASYVjyBOd0G9JJKzC_5dgzrDHKeVsdZG1akcSvWnYBoKd'):\n",
        "        '''sound object, initialise with path to .wav file'''\n",
        "        self.from_drive = from_drive\n",
        "        self.path = path\n",
        "        self.dbx_access_token = dbx_access_token\n",
        "        self.dbx = dropbox.Dropbox(self.dbx_access_token)\n",
        "        self.file = self.read_wave_file()\n",
        "        self.params, self.raw_audio = self.extract_raw_audio()\n",
        "        if self.from_drive:\n",
        "          self.frame_count = self.file.getnframes()\n",
        "        else:\n",
        "          self.frame_count = len(self.raw_audio)\n",
        "    \n",
        "    def read_wave_file(self):\n",
        "      if self.from_drive:\n",
        "        file = wave.open(self.path, 'rb')\n",
        "      else:\n",
        "        if not self.path.startswith('/'):\n",
        "          path = '/' + self.path\n",
        "        else:\n",
        "          path = self.path\n",
        "        _, file = self.dbx.files_download(path)\n",
        "        file = file.content\n",
        "      return file\n",
        "      \n",
        "    def parameters(self):\n",
        "        '''returns parameters of .wav [nchannels, sampwidth, framerate, nframes, comptype, compname]'''\n",
        "        return self.file.params\n",
        "\n",
        "    def close(self):\n",
        "        return self.file.close()\n",
        "  \n",
        "    def extract_raw_audio(self): \n",
        "        '''extract raw audio needed for dsp'''\n",
        "        if self.from_drive:\n",
        "          signal = self.file.readframes(-1)\n",
        "          raw_audio = np.fromstring(signal,'int16')\n",
        "        else:\n",
        "          params, raw_audio = self.read_wav_string(self.file)\n",
        "        return params, raw_audio\n",
        "      \n",
        "    def visualise_time(self):\n",
        "        '''plot raw_audio'''\n",
        "        plt.plot(self.raw_audio)\n",
        "        plt.show()\n",
        "    \n",
        "    \n",
        "    def read_wav_string(self, byte_string):\n",
        "      wav_file = {'chunk_id': struct.unpack(\">I\", byte_string[:4]),\n",
        "                  'chunk_size': struct.unpack(\"<I\", byte_string[4:8]),\n",
        "                  'format': struct.unpack(\">I\", byte_string[8:12]),\n",
        "                  'subchunk1_id': struct.unpack(\">I\", byte_string[12:16]),\n",
        "                  'subchunk1_size': struct.unpack(\">I\", byte_string[16:20]),\n",
        "                  'audio_format': struct.unpack(\"<H\", byte_string[20:22]),\n",
        "                  'num_channels': struct.unpack(\"<H\", byte_string[22:24]),\n",
        "                  'sample_rate': struct.unpack(\"<I\", byte_string[24:28]),\n",
        "                  'byte_rate': struct.unpack(\"<I\", byte_string[28:32]),\n",
        "                  'block_align': struct.unpack(\"<H\", byte_string[32:34]),\n",
        "                  'bits_per_sample': struct.unpack(\"<H\", byte_string[34:36]),\n",
        "                  'subchunk2_id': struct.unpack(\">I\", byte_string[36:40]),\n",
        "                  'subchunk2_size': struct.unpack(\"<I\", byte_string[40:44])}\n",
        "      wav_file = {k: wav_file[k][0] if isinstance(wav_file[k], tuple) else wav_file for k in wav_file.keys()}\n",
        "      data = np.array([struct.unpack(\"<h\", byte_string[44:][i:i+2]) for i in range(len(byte_string[44:]))[::2]])\n",
        "      data = np.squeeze(data)\n",
        "      wav_file['sample_count'] = len(data)\n",
        "      return wav_file, data\n",
        "         "
      ],
      "execution_count": 0,
      "outputs": []
    },
    {
      "metadata": {
        "id": "CnQus24OldIj",
        "colab_type": "code",
        "colab": {}
      },
      "cell_type": "code",
      "source": [
        "sound_dbx = sound('mssp4.wav', from_drive=False)"
      ],
      "execution_count": 0,
      "outputs": []
    },
    {
      "metadata": {
        "id": "Z2E50DIFmclP",
        "colab_type": "code",
        "colab": {
          "base_uri": "https://localhost:8080/",
          "height": 255
        },
        "outputId": "5e38f4ba-9615-45c5-f1ab-c1607bfa4607"
      },
      "cell_type": "code",
      "source": [
        "sound_dbx.params"
      ],
      "execution_count": 22,
      "outputs": [
        {
          "output_type": "execute_result",
          "data": {
            "text/plain": [
              "{'audio_format': 1,\n",
              " 'bits_per_sample': 16,\n",
              " 'block_align': 2,\n",
              " 'byte_rate': 44100,\n",
              " 'chunk_id': 1380533830,\n",
              " 'chunk_size': 220536,\n",
              " 'format': 1463899717,\n",
              " 'frame_count': 110250,\n",
              " 'num_channels': 1,\n",
              " 'sample_rate': 22050,\n",
              " 'subchunk1_id': 1718449184,\n",
              " 'subchunk1_size': 268435456,\n",
              " 'subchunk2_id': 1684108385,\n",
              " 'subchunk2_size': 220500}"
            ]
          },
          "metadata": {
            "tags": []
          },
          "execution_count": 22
        }
      ]
    },
    {
      "metadata": {
        "id": "awdu2zmvnTUV",
        "colab_type": "code",
        "colab": {
          "base_uri": "https://localhost:8080/",
          "height": 364
        },
        "outputId": "59d464d0-97cf-4848-9305-eaef7b7acd91"
      },
      "cell_type": "code",
      "source": [
        "plt.plot(sound_dbx.raw_audio)"
      ],
      "execution_count": 5,
      "outputs": [
        {
          "output_type": "execute_result",
          "data": {
            "text/plain": [
              "[<matplotlib.lines.Line2D at 0x7fb593bc9828>]"
            ]
          },
          "metadata": {
            "tags": []
          },
          "execution_count": 5
        },
        {
          "output_type": "display_data",
          "data": {
            "image/png": "[encoded data removed]",
            "text/plain": [
              "<matplotlib.figure.Figure at 0x7fb5964efef0>"
            ]
          },
          "metadata": {
            "tags": []
          }
        }
      ]
    },
    {
      "metadata": {
        "id": "iDamT_CWhbUC",
        "colab_type": "code",
        "colab": {
          "resources": {
            "http://localhost:8080/nbextensions/google.colab/files.js": {
              "data": "Ly8gQ29weXJpZ2h0IDIwMTcgR29vZ2xlIExMQwovLwovLyBMaWNlbnNlZCB1bmRlciB0aGUgQXBhY2hlIExpY2Vuc2UsIFZlcnNpb24gMi4wICh0aGUgIkxpY2Vuc2UiKTsKLy8geW91IG1heSBub3QgdXNlIHRoaXMgZmlsZSBleGNlcHQgaW4gY29tcGxpYW5jZSB3aXRoIHRoZSBMaWNlbnNlLgovLyBZb3UgbWF5IG9idGFpbiBhIGNvcHkgb2YgdGhlIExpY2Vuc2UgYXQKLy8KLy8gICAgICBodHRwOi8vd3d3LmFwYWNoZS5vcmcvbGljZW5zZXMvTElDRU5TRS0yLjAKLy8KLy8gVW5sZXNzIHJlcXVpcmVkIGJ5IGFwcGxpY2FibGUgbGF3IG9yIGFncmVlZCB0byBpbiB3cml0aW5nLCBzb2Z0d2FyZQovLyBkaXN0cmlidXRlZCB1bmRlciB0aGUgTGljZW5zZSBpcyBkaXN0cmlidXRlZCBvbiBhbiAiQVMgSVMiIEJBU0lTLAovLyBXSVRIT1VUIFdBUlJBTlRJRVMgT1IgQ09ORElUSU9OUyBPRiBBTlkgS0lORCwgZWl0aGVyIGV4cHJlc3Mgb3IgaW1wbGllZC4KLy8gU2VlIHRoZSBMaWNlbnNlIGZvciB0aGUgc3BlY2lmaWMgbGFuZ3VhZ2UgZ292ZXJuaW5nIHBlcm1pc3Npb25zIGFuZAovLyBsaW1pdGF0aW9ucyB1bmRlciB0aGUgTGljZW5zZS4KCi8qKgogKiBAZmlsZW92ZXJ2aWV3IEhlbHBlcnMgZm9yIGdvb2dsZS5jb2xhYiBQeXRob24gbW9kdWxlLgogKi8KKGZ1bmN0aW9uKHNjb3BlKSB7CmZ1bmN0aW9uIHNwYW4odGV4dCwgc3R5bGVBdHRyaWJ1dGVzID0ge30pIHsKICBjb25zdCBlbGVtZW50ID0gZG9jdW1lbnQuY3JlYXRlRWxlbWVudCgnc3BhbicpOwogIGVsZW1lbnQudGV4dENvbnRlbnQgPSB0ZXh0OwogIGZvciAoY29uc3Qga2V5IG9mIE9iamVjdC5rZXlzKHN0eWxlQXR0cmlidXRlcykpIHsKICAgIGVsZW1lbnQuc3R5bGVba2V5XSA9IHN0eWxlQXR0cmlidXRlc1trZXldOwogIH0KICByZXR1cm4gZWxlbWVudDsKfQoKLy8gTWF4IG51bWJlciBvZiBieXRlcyB3aGljaCB3aWxsIGJlIHVwbG9hZGVkIGF0IGEgdGltZS4KY29uc3QgTUFYX1BBWUxPQURfU0laRSA9IDEwMCAqIDEwMjQ7Ci8vIE1heCBhbW91bnQgb2YgdGltZSB0byBibG9jayB3YWl0aW5nIGZvciB0aGUgdXNlci4KY29uc3QgRklMRV9DSEFOR0VfVElNRU9VVF9NUyA9IDMwICogMTAwMDsKCmZ1bmN0aW9uIF91cGxvYWRGaWxlcyhpbnB1dElkLCBvdXRwdXRJZCkgewogIGNvbnN0IHN0ZXBzID0gdXBsb2FkRmlsZXNTdGVwKGlucHV0SWQsIG91dHB1dElkKTsKICBjb25zdCBvdXRwdXRFbGVtZW50ID0gZG9jdW1lbnQuZ2V0RWxlbWVudEJ5SWQob3V0cHV0SWQpOwogIC8vIENhY2hlIHN0ZXBzIG9uIHRoZSBvdXRwdXRFbGVtZW50IHRvIG1ha2UgaXQgYXZhaWxhYmxlIGZvciB0aGUgbmV4dCBjYWxsCiAgLy8gdG8gdXBsb2FkRmlsZXNDb250aW51ZSBmcm9tIFB5dGhvbi4KICBvdXRwdXRFbGVtZW50LnN0ZXBzID0gc3RlcHM7CgogIHJldHVybiBfdXBsb2FkRmlsZXNDb250aW51ZShvdXRwdXRJZCk7Cn0KCi8vIFRoaXMgaXMgcm91Z2hseSBhbiBhc3luYyBnZW5lcmF0b3IgKG5vdCBzdXBwb3J0ZWQgaW4gdGhlIGJyb3dzZXIgeWV0KSwKLy8gd2hlcmUgdGhlcmUgYXJlIG11bHRpcGxlIGFzeW5jaHJvbm91cyBzdGVwcyBhbmQgdGhlIFB5dGhvbiBzaWRlIGlzIGdvaW5nCi8vIHRvIHBvbGwgZm9yIGNvbXBsZXRpb24gb2YgZWFjaCBzdGVwLgovLyBUaGlzIHVzZXMgYSBQcm9taXNlIHRvIGJsb2NrIHRoZSBweXRob24gc2lkZSBvbiBjb21wbGV0aW9uIG9mIGVhY2ggc3RlcCwKLy8gdGhlbiBwYXNzZXMgdGhlIHJlc3VsdCBvZiB0aGUgcHJldmlvdXMgc3RlcCBhcyB0aGUgaW5wdXQgdG8gdGhlIG5leHQgc3RlcC4KZnVuY3Rpb24gX3VwbG9hZEZpbGVzQ29udGludWUob3V0cHV0SWQpIHsKICBjb25zdCBvdXRwdXRFbGVtZW50ID0gZG9jdW1lbnQuZ2V0RWxlbWVudEJ5SWQob3V0cHV0SWQpOwogIGNvbnN0IHN0ZXBzID0gb3V0cHV0RWxlbWVudC5zdGVwczsKCiAgY29uc3QgbmV4dCA9IHN0ZXBzLm5leHQob3V0cHV0RWxlbWVudC5sYXN0UHJvbWlzZVZhbHVlKTsKICByZXR1cm4gUHJvbWlzZS5yZXNvbHZlKG5leHQudmFsdWUucHJvbWlzZSkudGhlbigodmFsdWUpID0+IHsKICAgIC8vIENhY2hlIHRoZSBsYXN0IHByb21pc2UgdmFsdWUgdG8gbWFrZSBpdCBhdmFpbGFibGUgdG8gdGhlIG5leHQKICAgIC8vIHN0ZXAgb2YgdGhlIGdlbmVyYXRvci4KICAgIG91dHB1dEVsZW1lbnQubGFzdFByb21pc2VWYWx1ZSA9IHZhbHVlOwogICAgcmV0dXJuIG5leHQudmFsdWUucmVzcG9uc2U7CiAgfSk7Cn0KCi8qKgogKiBHZW5lcmF0b3IgZnVuY3Rpb24gd2hpY2ggaXMgY2FsbGVkIGJldHdlZW4gZWFjaCBhc3luYyBzdGVwIG9mIHRoZSB1cGxvYWQKICogcHJvY2Vzcy4KICogQHBhcmFtIHtzdHJpbmd9IGlucHV0SWQgRWxlbWVudCBJRCBvZiB0aGUgaW5wdXQgZmlsZSBwaWNrZXIgZWxlbWVudC4KICogQHBhcmFtIHtzdHJpbmd9IG91dHB1dElkIEVsZW1lbnQgSUQgb2YgdGhlIG91dHB1dCBkaXNwbGF5LgogKiBAcmV0dXJuIHshSXRlcmFibGU8IU9iamVjdD59IEl0ZXJhYmxlIG9mIG5leHQgc3RlcHMuCiAqLwpmdW5jdGlvbiogdXBsb2FkRmlsZXNTdGVwKGlucHV0SWQsIG91dHB1dElkKSB7CiAgY29uc3QgaW5wdXRFbGVtZW50ID0gZG9jdW1lbnQuZ2V0RWxlbWVudEJ5SWQoaW5wdXRJZCk7CiAgaW5wdXRFbGVtZW50LmRpc2FibGVkID0gZmFsc2U7CgogIGNvbnN0IG91dHB1dEVsZW1lbnQgPSBkb2N1bWVudC5nZXRFbGVtZW50QnlJZChvdXRwdXRJZCk7CiAgb3V0cHV0RWxlbWVudC5pbm5lckhUTUwgPSAnJzsKCiAgY29uc3QgcGlja2VkUHJvbWlzZSA9IG5ldyBQcm9taXNlKChyZXNvbHZlKSA9PiB7CiAgICBpbnB1dEVsZW1lbnQuYWRkRXZlbnRMaXN0ZW5lcignY2hhbmdlJywgKGUpID0+IHsKICAgICAgcmVzb2x2ZShlLnRhcmdldC5maWxlcyk7CiAgICB9KTsKICB9KTsKCiAgY29uc3QgY2FuY2VsID0gZG9jdW1lbnQuY3JlYXRlRWxlbWVudCgnYnV0dG9uJyk7CiAgaW5wdXRFbGVtZW50LnBhcmVudEVsZW1lbnQuYXBwZW5kQ2hpbGQoY2FuY2VsKTsKICBjYW5jZWwudGV4dENvbnRlbnQgPSAnQ2FuY2VsIHVwbG9hZCc7CiAgY29uc3QgY2FuY2VsUHJvbWlzZSA9IG5ldyBQcm9taXNlKChyZXNvbHZlKSA9PiB7CiAgICBjYW5jZWwub25jbGljayA9ICgpID0+IHsKICAgICAgcmVzb2x2ZShudWxsKTsKICAgIH07CiAgfSk7CgogIC8vIENhbmNlbCB1cGxvYWQgaWYgdXNlciBoYXNuJ3QgcGlja2VkIGFueXRoaW5nIGluIHRpbWVvdXQuCiAgY29uc3QgdGltZW91dFByb21pc2UgPSBuZXcgUHJvbWlzZSgocmVzb2x2ZSkgPT4gewogICAgc2V0VGltZW91dCgoKSA9PiB7CiAgICAgIHJlc29sdmUobnVsbCk7CiAgICB9LCBGSUxFX0NIQU5HRV9USU1FT1VUX01TKTsKICB9KTsKCiAgLy8gV2FpdCBmb3IgdGhlIHVzZXIgdG8gcGljayB0aGUgZmlsZXMuCiAgY29uc3QgZmlsZXMgPSB5aWVsZCB7CiAgICBwcm9taXNlOiBQcm9taXNlLnJhY2UoW3BpY2tlZFByb21pc2UsIHRpbWVvdXRQcm9taXNlLCBjYW5jZWxQcm9taXNlXSksCiAgICByZXNwb25zZTogewogICAgICBhY3Rpb246ICdzdGFydGluZycsCiAgICB9CiAgfTsKCiAgaWYgKCFmaWxlcykgewogICAgcmV0dXJuIHsKICAgICAgcmVzcG9uc2U6IHsKICAgICAgICBhY3Rpb246ICdjb21wbGV0ZScsCiAgICAgIH0KICAgIH07CiAgfQoKICBjYW5jZWwucmVtb3ZlKCk7CgogIC8vIERpc2FibGUgdGhlIGlucHV0IGVsZW1lbnQgc2luY2UgZnVydGhlciBwaWNrcyBhcmUgbm90IGFsbG93ZWQuCiAgaW5wdXRFbGVtZW50LmRpc2FibGVkID0gdHJ1ZTsKCiAgZm9yIChjb25zdCBmaWxlIG9mIGZpbGVzKSB7CiAgICBjb25zdCBsaSA9IGRvY3VtZW50LmNyZWF0ZUVsZW1lbnQoJ2xpJyk7CiAgICBsaS5hcHBlbmQoc3BhbihmaWxlLm5hbWUsIHtmb250V2VpZ2h0OiAnYm9sZCd9KSk7CiAgICBsaS5hcHBlbmQoc3BhbigKICAgICAgICBgKCR7ZmlsZS50eXBlIHx8ICduL2EnfSkgLSAke2ZpbGUuc2l6ZX0gYnl0ZXMsIGAgKwogICAgICAgIGBsYXN0IG1vZGlmaWVkOiAkewogICAgICAgICAgICBmaWxlLmxhc3RNb2RpZmllZERhdGUgPyBmaWxlLmxhc3RNb2RpZmllZERhdGUudG9Mb2NhbGVEYXRlU3RyaW5nKCkgOgogICAgICAgICAgICAgICAgICAgICAgICAgICAgICAgICAgICAnbi9hJ30gLSBgKSk7CiAgICBjb25zdCBwZXJjZW50ID0gc3BhbignMCUgZG9uZScpOwogICAgbGkuYXBwZW5kQ2hpbGQocGVyY2VudCk7CgogICAgb3V0cHV0RWxlbWVudC5hcHBlbmRDaGlsZChsaSk7CgogICAgY29uc3QgZmlsZURhdGFQcm9taXNlID0gbmV3IFByb21pc2UoKHJlc29sdmUpID0+IHsKICAgICAgY29uc3QgcmVhZGVyID0gbmV3IEZpbGVSZWFkZXIoKTsKICAgICAgcmVhZGVyLm9ubG9hZCA9IChlKSA9PiB7CiAgICAgICAgcmVzb2x2ZShlLnRhcmdldC5yZXN1bHQpOwogICAgICB9OwogICAgICByZWFkZXIucmVhZEFzQXJyYXlCdWZmZXIoZmlsZSk7CiAgICB9KTsKICAgIC8vIFdhaXQgZm9yIHRoZSBkYXRhIHRvIGJlIHJlYWR5LgogICAgbGV0IGZpbGVEYXRhID0geWllbGQgewogICAgICBwcm9taXNlOiBmaWxlRGF0YVByb21pc2UsCiAgICAgIHJlc3BvbnNlOiB7CiAgICAgICAgYWN0aW9uOiAnY29udGludWUnLAogICAgICB9CiAgICB9OwoKICAgIC8vIFVzZSBhIGNodW5rZWQgc2VuZGluZyB0byBhdm9pZCBtZXNzYWdlIHNpemUgbGltaXRzLiBTZWUgYi82MjExNTY2MC4KICAgIGxldCBwb3NpdGlvbiA9IDA7CiAgICB3aGlsZSAocG9zaXRpb24gPCBmaWxlRGF0YS5ieXRlTGVuZ3RoKSB7CiAgICAgIGNvbnN0IGxlbmd0aCA9IE1hdGgubWluKGZpbGVEYXRhLmJ5dGVMZW5ndGggLSBwb3NpdGlvbiwgTUFYX1BBWUxPQURfU0laRSk7CiAgICAgIGNvbnN0IGNodW5rID0gbmV3IFVpbnQ4QXJyYXkoZmlsZURhdGEsIHBvc2l0aW9uLCBsZW5ndGgpOwogICAgICBwb3NpdGlvbiArPSBsZW5ndGg7CgogICAgICBjb25zdCBiYXNlNjQgPSBidG9hKFN0cmluZy5mcm9tQ2hhckNvZGUuYXBwbHkobnVsbCwgY2h1bmspKTsKICAgICAgeWllbGQgewogICAgICAgIHJlc3BvbnNlOiB7CiAgICAgICAgICBhY3Rpb246ICdhcHBlbmQnLAogICAgICAgICAgZmlsZTogZmlsZS5uYW1lLAogICAgICAgICAgZGF0YTogYmFzZTY0LAogICAgICAgIH0sCiAgICAgIH07CiAgICAgIHBlcmNlbnQudGV4dENvbnRlbnQgPQogICAgICAgICAgYCR7TWF0aC5yb3VuZCgocG9zaXRpb24gLyBmaWxlRGF0YS5ieXRlTGVuZ3RoKSAqIDEwMCl9JSBkb25lYDsKICAgIH0KICB9CgogIC8vIEFsbCBkb25lLgogIHlpZWxkIHsKICAgIHJlc3BvbnNlOiB7CiAgICAgIGFjdGlvbjogJ2NvbXBsZXRlJywKICAgIH0KICB9Owp9CgpzY29wZS5nb29nbGUgPSBzY29wZS5nb29nbGUgfHwge307CnNjb3BlLmdvb2dsZS5jb2xhYiA9IHNjb3BlLmdvb2dsZS5jb2xhYiB8fCB7fTsKc2NvcGUuZ29vZ2xlLmNvbGFiLl9maWxlcyA9IHsKICBfdXBsb2FkRmlsZXMsCiAgX3VwbG9hZEZpbGVzQ29udGludWUsCn07Cn0pKHNlbGYpOwo=",
              "ok": true,
              "headers": [
                [
                  "content-type",
                  "application/javascript"
                ]
              ],
              "status": 200,
              "status_text": "OK"
            }
          },
          "base_uri": "https://localhost:8080/",
          "height": 771
        },
        "outputId": "7adbb5e5-70c9-4968-bfb2-f736b60e92dc"
      },
      "cell_type": "code",
      "source": [
        "'''Test visualisation'''  \n",
        "upload_local_file()\n",
        "path = \"mssp4.wav\"\n",
        "sound1 = sound(path) \n",
        "sound1.extract_raw_audio()\n",
        "\n",
        "print(sound1.raw_audio)\n",
        "sound1.visualise_time()\n",
        "print(sound1.parameters())\n",
        "         "
      ],
      "execution_count": 6,
      "outputs": [
        {
          "output_type": "display_data",
          "data": {
            "text/html": [
              "\n",
              "     <input type=\"file\" id=\"files-c9a66c66-6019-434b-9077-70c98673f48b\" name=\"files[]\" multiple disabled />\n",
              "     <output id=\"result-c9a66c66-6019-434b-9077-70c98673f48b\">\n",
              "      Upload widget is only available when the cell has been executed in the\n",
              "      current browser session. Please rerun this cell to enable.\n",
              "      </output>\n",
              "      <script src=\"/nbextensions/google.colab/files.js\"></script> "
            ],
            "text/plain": [
              "<IPython.core.display.HTML object>"
            ]
          },
          "metadata": {
            "tags": []
          }
        },
        {
          "output_type": "error",
          "ename": "FileNotFoundError",
          "evalue": "ignored",
          "traceback": [
            "\u001b[0;31m---------------------------------------------------------------------------\u001b[0m",
            "\u001b[0;31mFileNotFoundError\u001b[0m                         Traceback (most recent call last)",
            "\u001b[0;32m<ipython-input-6-f227e61b3d8c>\u001b[0m in \u001b[0;36m<module>\u001b[0;34m()\u001b[0m\n\u001b[1;32m      2\u001b[0m \u001b[0mupload_local_file\u001b[0m\u001b[0;34m(\u001b[0m\u001b[0;34m)\u001b[0m\u001b[0;34m\u001b[0m\u001b[0m\n\u001b[1;32m      3\u001b[0m \u001b[0mpath\u001b[0m \u001b[0;34m=\u001b[0m \u001b[0;34m\"mssp4.wav\"\u001b[0m\u001b[0;34m\u001b[0m\u001b[0m\n\u001b[0;32m----> 4\u001b[0;31m \u001b[0msound1\u001b[0m \u001b[0;34m=\u001b[0m \u001b[0msound\u001b[0m\u001b[0;34m(\u001b[0m\u001b[0mpath\u001b[0m\u001b[0;34m)\u001b[0m\u001b[0;34m\u001b[0m\u001b[0m\n\u001b[0m\u001b[1;32m      5\u001b[0m \u001b[0msound1\u001b[0m\u001b[0;34m.\u001b[0m\u001b[0mextract_raw_audio\u001b[0m\u001b[0;34m(\u001b[0m\u001b[0;34m)\u001b[0m\u001b[0;34m\u001b[0m\u001b[0m\n\u001b[1;32m      6\u001b[0m \u001b[0;34m\u001b[0m\u001b[0m\n",
            "\u001b[0;32m<ipython-input-2-5558b8d79cd5>\u001b[0m in \u001b[0;36m__init__\u001b[0;34m(self, path, from_drive, dbx_access_token)\u001b[0m\n\u001b[1;32m     32\u001b[0m         \u001b[0mself\u001b[0m\u001b[0;34m.\u001b[0m\u001b[0mdbx_access_token\u001b[0m \u001b[0;34m=\u001b[0m \u001b[0mdbx_access_token\u001b[0m\u001b[0;34m\u001b[0m\u001b[0m\n\u001b[1;32m     33\u001b[0m         \u001b[0mself\u001b[0m\u001b[0;34m.\u001b[0m\u001b[0mdbx\u001b[0m \u001b[0;34m=\u001b[0m \u001b[0mdropbox\u001b[0m\u001b[0;34m.\u001b[0m\u001b[0mDropbox\u001b[0m\u001b[0;34m(\u001b[0m\u001b[0mself\u001b[0m\u001b[0;34m.\u001b[0m\u001b[0mdbx_access_token\u001b[0m\u001b[0;34m)\u001b[0m\u001b[0;34m\u001b[0m\u001b[0m\n\u001b[0;32m---> 34\u001b[0;31m         \u001b[0mself\u001b[0m\u001b[0;34m.\u001b[0m\u001b[0mfile\u001b[0m \u001b[0;34m=\u001b[0m \u001b[0mself\u001b[0m\u001b[0;34m.\u001b[0m\u001b[0mread_wave_file\u001b[0m\u001b[0;34m(\u001b[0m\u001b[0;34m)\u001b[0m\u001b[0;34m\u001b[0m\u001b[0m\n\u001b[0m\u001b[1;32m     35\u001b[0m         \u001b[0mself\u001b[0m\u001b[0;34m.\u001b[0m\u001b[0mparams\u001b[0m\u001b[0;34m,\u001b[0m \u001b[0mself\u001b[0m\u001b[0;34m.\u001b[0m\u001b[0mraw_audio\u001b[0m \u001b[0;34m=\u001b[0m \u001b[0mself\u001b[0m\u001b[0;34m.\u001b[0m\u001b[0mextract_raw_audio\u001b[0m\u001b[0;34m(\u001b[0m\u001b[0;34m)\u001b[0m\u001b[0;34m\u001b[0m\u001b[0m\n\u001b[1;32m     36\u001b[0m         \u001b[0;32mif\u001b[0m \u001b[0mself\u001b[0m\u001b[0;34m.\u001b[0m\u001b[0mfrom_drive\u001b[0m\u001b[0;34m:\u001b[0m\u001b[0;34m\u001b[0m\u001b[0m\n",
            "\u001b[0;32m<ipython-input-2-5558b8d79cd5>\u001b[0m in \u001b[0;36mread_wave_file\u001b[0;34m(self)\u001b[0m\n\u001b[1;32m     41\u001b[0m     \u001b[0;32mdef\u001b[0m \u001b[0mread_wave_file\u001b[0m\u001b[0;34m(\u001b[0m\u001b[0mself\u001b[0m\u001b[0;34m)\u001b[0m\u001b[0;34m:\u001b[0m\u001b[0;34m\u001b[0m\u001b[0m\n\u001b[1;32m     42\u001b[0m       \u001b[0;32mif\u001b[0m \u001b[0mself\u001b[0m\u001b[0;34m.\u001b[0m\u001b[0mfrom_drive\u001b[0m\u001b[0;34m:\u001b[0m\u001b[0;34m\u001b[0m\u001b[0m\n\u001b[0;32m---> 43\u001b[0;31m         \u001b[0mfile\u001b[0m \u001b[0;34m=\u001b[0m \u001b[0mwave\u001b[0m\u001b[0;34m.\u001b[0m\u001b[0mopen\u001b[0m\u001b[0;34m(\u001b[0m\u001b[0mself\u001b[0m\u001b[0;34m.\u001b[0m\u001b[0mpath\u001b[0m\u001b[0;34m,\u001b[0m \u001b[0;34m'rb'\u001b[0m\u001b[0;34m)\u001b[0m\u001b[0;34m\u001b[0m\u001b[0m\n\u001b[0m\u001b[1;32m     44\u001b[0m       \u001b[0;32melse\u001b[0m\u001b[0;34m:\u001b[0m\u001b[0;34m\u001b[0m\u001b[0m\n\u001b[1;32m     45\u001b[0m         \u001b[0;32mif\u001b[0m \u001b[0;32mnot\u001b[0m \u001b[0mself\u001b[0m\u001b[0;34m.\u001b[0m\u001b[0mpath\u001b[0m\u001b[0;34m.\u001b[0m\u001b[0mstartswith\u001b[0m\u001b[0;34m(\u001b[0m\u001b[0;34m'/'\u001b[0m\u001b[0;34m)\u001b[0m\u001b[0;34m:\u001b[0m\u001b[0;34m\u001b[0m\u001b[0m\n",
            "\u001b[0;32m/usr/lib/python3.6/wave.py\u001b[0m in \u001b[0;36mopen\u001b[0;34m(f, mode)\u001b[0m\n\u001b[1;32m    497\u001b[0m             \u001b[0mmode\u001b[0m \u001b[0;34m=\u001b[0m \u001b[0;34m'rb'\u001b[0m\u001b[0;34m\u001b[0m\u001b[0m\n\u001b[1;32m    498\u001b[0m     \u001b[0;32mif\u001b[0m \u001b[0mmode\u001b[0m \u001b[0;32min\u001b[0m \u001b[0;34m(\u001b[0m\u001b[0;34m'r'\u001b[0m\u001b[0;34m,\u001b[0m \u001b[0;34m'rb'\u001b[0m\u001b[0;34m)\u001b[0m\u001b[0;34m:\u001b[0m\u001b[0;34m\u001b[0m\u001b[0m\n\u001b[0;32m--> 499\u001b[0;31m         \u001b[0;32mreturn\u001b[0m \u001b[0mWave_read\u001b[0m\u001b[0;34m(\u001b[0m\u001b[0mf\u001b[0m\u001b[0;34m)\u001b[0m\u001b[0;34m\u001b[0m\u001b[0m\n\u001b[0m\u001b[1;32m    500\u001b[0m     \u001b[0;32melif\u001b[0m \u001b[0mmode\u001b[0m \u001b[0;32min\u001b[0m \u001b[0;34m(\u001b[0m\u001b[0;34m'w'\u001b[0m\u001b[0;34m,\u001b[0m \u001b[0;34m'wb'\u001b[0m\u001b[0;34m)\u001b[0m\u001b[0;34m:\u001b[0m\u001b[0;34m\u001b[0m\u001b[0m\n\u001b[1;32m    501\u001b[0m         \u001b[0;32mreturn\u001b[0m \u001b[0mWave_write\u001b[0m\u001b[0;34m(\u001b[0m\u001b[0mf\u001b[0m\u001b[0;34m)\u001b[0m\u001b[0;34m\u001b[0m\u001b[0m\n",
            "\u001b[0;32m/usr/lib/python3.6/wave.py\u001b[0m in \u001b[0;36m__init__\u001b[0;34m(self, f)\u001b[0m\n\u001b[1;32m    157\u001b[0m         \u001b[0mself\u001b[0m\u001b[0;34m.\u001b[0m\u001b[0m_i_opened_the_file\u001b[0m \u001b[0;34m=\u001b[0m \u001b[0;32mNone\u001b[0m\u001b[0;34m\u001b[0m\u001b[0m\n\u001b[1;32m    158\u001b[0m         \u001b[0;32mif\u001b[0m \u001b[0misinstance\u001b[0m\u001b[0;34m(\u001b[0m\u001b[0mf\u001b[0m\u001b[0;34m,\u001b[0m \u001b[0mstr\u001b[0m\u001b[0;34m)\u001b[0m\u001b[0;34m:\u001b[0m\u001b[0;34m\u001b[0m\u001b[0m\n\u001b[0;32m--> 159\u001b[0;31m             \u001b[0mf\u001b[0m \u001b[0;34m=\u001b[0m \u001b[0mbuiltins\u001b[0m\u001b[0;34m.\u001b[0m\u001b[0mopen\u001b[0m\u001b[0;34m(\u001b[0m\u001b[0mf\u001b[0m\u001b[0;34m,\u001b[0m \u001b[0;34m'rb'\u001b[0m\u001b[0;34m)\u001b[0m\u001b[0;34m\u001b[0m\u001b[0m\n\u001b[0m\u001b[1;32m    160\u001b[0m             \u001b[0mself\u001b[0m\u001b[0;34m.\u001b[0m\u001b[0m_i_opened_the_file\u001b[0m \u001b[0;34m=\u001b[0m \u001b[0mf\u001b[0m\u001b[0;34m\u001b[0m\u001b[0m\n\u001b[1;32m    161\u001b[0m         \u001b[0;31m# else, assume it is an open file object already\u001b[0m\u001b[0;34m\u001b[0m\u001b[0;34m\u001b[0m\u001b[0m\n",
            "\u001b[0;31mFileNotFoundError\u001b[0m: [Errno 2] No such file or directory: 'mssp4.wav'"
          ]
        }
      ]
    },
    {
      "metadata": {
        "id": "s8z-QRiwSNmK",
        "colab_type": "text"
      },
      "cell_type": "markdown",
      "source": [
        "### Low energy frames feature extraction\n",
        "\n",
        "This is a good measure of how much of a signal is quiet relative to the rest of a signal.\n",
        "\n"
      ]
    },
    {
      "metadata": {
        "id": "w5iXtZtRNMcK",
        "colab_type": "code",
        "colab": {}
      },
      "cell_type": "code",
      "source": [
        "def extract_low_energy_frames(sound):\n",
        "    '''step1: break raw into frames'''\n",
        "    sound.extract_raw_audio()\n",
        "    raw = sound.raw_audio\n",
        "    \n",
        "    fs = sound.parameters()[2] #framerate\n",
        "    nframes = sound.parameters()[3] #number of frames\n",
        "    threshold = 1000\n",
        "     \n",
        "    '''step2: use threshold to identify silence'''\n",
        "    silent,loud = 0,0\n",
        "    for i in range(0,nframes):  \n",
        "        if(abs(raw[i])>threshold):\n",
        "            loud=loud+1\n",
        "        else:\n",
        "            silent=silent+1\n",
        "    \n",
        "    '''step3: calculate % of low energy frames'''\n",
        "    print(silent)\n",
        "    print(loud)\n",
        "    print(silent+loud,\" \",nframes)\n",
        "    return (silent/nframes)*100\n",
        "   "
      ],
      "execution_count": 0,
      "outputs": []
    },
    {
      "metadata": {
        "id": "nZm9geqWhEea",
        "colab_type": "code",
        "colab": {
          "resources": {
            "http://localhost:8080/nbextensions/google.colab/files.js": {
              "data": "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",
              "ok": true,
              "headers": [
                [
                  "content-type",
                  "application/javascript"
                ]
              ],
              "status": 200,
              "status_text": "OK"
            }
          },
          "base_uri": "https://localhost:8080/",
          "height": 771
        },
        "outputId": "c9a26fb7-6338-4e88-cf4b-25caa9e92e27"
      },
      "cell_type": "code",
      "source": [
        "'''Test percentage of low energy frames feature extraction'''\n",
        "upload_local_file()\n",
        "path = \"msms1.wav\" #speech\n",
        "path2 = \"msmn1.wav\" #music\n",
        "sound1 = sound(path)\n",
        "sound2 = sound(path2)\n",
        "percent1 = extract_low_energy_frames(sound1)\n",
        "percent2 = extract_low_energy_frames(sound2)\n",
        "print(percent1)\n",
        "print(percent2)\n",
        "\n",
        "#results seem to match speech has high percentage silence, music has low, need \n",
        "#to tweaek threshold possibly"
      ],
      "execution_count": 30,
      "outputs": [
        {
          "output_type": "display_data",
          "data": {
            "text/html": [
              "\n",
              "     <input type=\"file\" id=\"files-c5ccef53-dba5-4ad7-a322-0d68fbdceea6\" name=\"files[]\" multiple disabled />\n",
              "     <output id=\"result-c5ccef53-dba5-4ad7-a322-0d68fbdceea6\">\n",
              "      Upload widget is only available when the cell has been executed in the\n",
              "      current browser session. Please rerun this cell to enable.\n",
              "      </output>\n",
              "      <script src=\"/nbextensions/google.colab/files.js\"></script> "
            ],
            "text/plain": [
              "<IPython.core.display.HTML object>"
            ]
          },
          "metadata": {
            "tags": []
          }
        },
        {
          "output_type": "error",
          "ename": "FileNotFoundError",
          "evalue": "ignored",
          "traceback": [
            "\u001b[0;31m---------------------------------------------------------------------------\u001b[0m",
            "\u001b[0;31mFileNotFoundError\u001b[0m                         Traceback (most recent call last)",
            "\u001b[0;32m<ipython-input-30-dab56b417cca>\u001b[0m in \u001b[0;36m<module>\u001b[0;34m()\u001b[0m\n\u001b[1;32m      3\u001b[0m \u001b[0mpath\u001b[0m \u001b[0;34m=\u001b[0m \u001b[0;34m\"msms1.wav\"\u001b[0m \u001b[0;31m#speech\u001b[0m\u001b[0;34m\u001b[0m\u001b[0m\n\u001b[1;32m      4\u001b[0m \u001b[0mpath2\u001b[0m \u001b[0;34m=\u001b[0m \u001b[0;34m\"msmn1.wav\"\u001b[0m \u001b[0;31m#music\u001b[0m\u001b[0;34m\u001b[0m\u001b[0m\n\u001b[0;32m----> 5\u001b[0;31m \u001b[0msound1\u001b[0m \u001b[0;34m=\u001b[0m \u001b[0msound\u001b[0m\u001b[0;34m(\u001b[0m\u001b[0mpath\u001b[0m\u001b[0;34m)\u001b[0m\u001b[0;34m\u001b[0m\u001b[0m\n\u001b[0m\u001b[1;32m      6\u001b[0m \u001b[0msound2\u001b[0m \u001b[0;34m=\u001b[0m \u001b[0msound\u001b[0m\u001b[0;34m(\u001b[0m\u001b[0mpath2\u001b[0m\u001b[0;34m)\u001b[0m\u001b[0;34m\u001b[0m\u001b[0m\n\u001b[1;32m      7\u001b[0m \u001b[0mpercent1\u001b[0m \u001b[0;34m=\u001b[0m \u001b[0mextract_low_energy_frames\u001b[0m\u001b[0;34m(\u001b[0m\u001b[0msound1\u001b[0m\u001b[0;34m)\u001b[0m\u001b[0;34m\u001b[0m\u001b[0m\n",
            "\u001b[0;32m<ipython-input-3-2e2d678cfb58>\u001b[0m in \u001b[0;36m__init__\u001b[0;34m(self, path, from_drive, dbx_access_token)\u001b[0m\n\u001b[1;32m     15\u001b[0m         \u001b[0mself\u001b[0m\u001b[0;34m.\u001b[0m\u001b[0mdbx_access_token\u001b[0m \u001b[0;34m=\u001b[0m \u001b[0mdbx_access_token\u001b[0m\u001b[0;34m\u001b[0m\u001b[0m\n\u001b[1;32m     16\u001b[0m         \u001b[0mself\u001b[0m\u001b[0;34m.\u001b[0m\u001b[0mdbx\u001b[0m \u001b[0;34m=\u001b[0m \u001b[0mdropbox\u001b[0m\u001b[0;34m.\u001b[0m\u001b[0mDropbox\u001b[0m\u001b[0;34m(\u001b[0m\u001b[0mself\u001b[0m\u001b[0;34m.\u001b[0m\u001b[0mdbx_access_token\u001b[0m\u001b[0;34m)\u001b[0m\u001b[0;34m\u001b[0m\u001b[0m\n\u001b[0;32m---> 17\u001b[0;31m         \u001b[0mself\u001b[0m\u001b[0;34m.\u001b[0m\u001b[0mfile\u001b[0m \u001b[0;34m=\u001b[0m \u001b[0mself\u001b[0m\u001b[0;34m.\u001b[0m\u001b[0mread_wave_file\u001b[0m\u001b[0;34m(\u001b[0m\u001b[0;34m)\u001b[0m\u001b[0;34m\u001b[0m\u001b[0m\n\u001b[0m\u001b[1;32m     18\u001b[0m         \u001b[0mself\u001b[0m\u001b[0;34m.\u001b[0m\u001b[0mparams\u001b[0m\u001b[0;34m,\u001b[0m \u001b[0mself\u001b[0m\u001b[0;34m.\u001b[0m\u001b[0mraw_audio\u001b[0m \u001b[0;34m=\u001b[0m \u001b[0mself\u001b[0m\u001b[0;34m.\u001b[0m\u001b[0mextract_raw_audio\u001b[0m\u001b[0;34m(\u001b[0m\u001b[0;34m)\u001b[0m\u001b[0;34m\u001b[0m\u001b[0m\n\u001b[1;32m     19\u001b[0m         \u001b[0;32mif\u001b[0m \u001b[0mself\u001b[0m\u001b[0;34m.\u001b[0m\u001b[0mfrom_drive\u001b[0m\u001b[0;34m:\u001b[0m\u001b[0;34m\u001b[0m\u001b[0m\n",
            "\u001b[0;32m<ipython-input-3-2e2d678cfb58>\u001b[0m in \u001b[0;36mread_wave_file\u001b[0;34m(self)\u001b[0m\n\u001b[1;32m     24\u001b[0m     \u001b[0;32mdef\u001b[0m \u001b[0mread_wave_file\u001b[0m\u001b[0;34m(\u001b[0m\u001b[0mself\u001b[0m\u001b[0;34m)\u001b[0m\u001b[0;34m:\u001b[0m\u001b[0;34m\u001b[0m\u001b[0m\n\u001b[1;32m     25\u001b[0m       \u001b[0;32mif\u001b[0m \u001b[0mself\u001b[0m\u001b[0;34m.\u001b[0m\u001b[0mfrom_drive\u001b[0m\u001b[0;34m:\u001b[0m\u001b[0;34m\u001b[0m\u001b[0m\n\u001b[0;32m---> 26\u001b[0;31m         \u001b[0mfile\u001b[0m \u001b[0;34m=\u001b[0m \u001b[0mwave\u001b[0m\u001b[0;34m.\u001b[0m\u001b[0mopen\u001b[0m\u001b[0;34m(\u001b[0m\u001b[0mself\u001b[0m\u001b[0;34m.\u001b[0m\u001b[0mpath\u001b[0m\u001b[0;34m,\u001b[0m \u001b[0;34m'rb'\u001b[0m\u001b[0;34m)\u001b[0m\u001b[0;34m\u001b[0m\u001b[0m\n\u001b[0m\u001b[1;32m     27\u001b[0m       \u001b[0;32melse\u001b[0m\u001b[0;34m:\u001b[0m\u001b[0;34m\u001b[0m\u001b[0m\n\u001b[1;32m     28\u001b[0m         \u001b[0;32mif\u001b[0m \u001b[0;32mnot\u001b[0m \u001b[0mself\u001b[0m\u001b[0;34m.\u001b[0m\u001b[0mpath\u001b[0m\u001b[0;34m.\u001b[0m\u001b[0mstartswith\u001b[0m\u001b[0;34m(\u001b[0m\u001b[0;34m'/'\u001b[0m\u001b[0;34m)\u001b[0m\u001b[0;34m:\u001b[0m\u001b[0;34m\u001b[0m\u001b[0m\n",
            "\u001b[0;32m/usr/lib/python3.6/wave.py\u001b[0m in \u001b[0;36mopen\u001b[0;34m(f, mode)\u001b[0m\n\u001b[1;32m    497\u001b[0m             \u001b[0mmode\u001b[0m \u001b[0;34m=\u001b[0m \u001b[0;34m'rb'\u001b[0m\u001b[0;34m\u001b[0m\u001b[0m\n\u001b[1;32m    498\u001b[0m     \u001b[0;32mif\u001b[0m \u001b[0mmode\u001b[0m \u001b[0;32min\u001b[0m \u001b[0;34m(\u001b[0m\u001b[0;34m'r'\u001b[0m\u001b[0;34m,\u001b[0m \u001b[0;34m'rb'\u001b[0m\u001b[0;34m)\u001b[0m\u001b[0;34m:\u001b[0m\u001b[0;34m\u001b[0m\u001b[0m\n\u001b[0;32m--> 499\u001b[0;31m         \u001b[0;32mreturn\u001b[0m \u001b[0mWave_read\u001b[0m\u001b[0;34m(\u001b[0m\u001b[0mf\u001b[0m\u001b[0;34m)\u001b[0m\u001b[0;34m\u001b[0m\u001b[0m\n\u001b[0m\u001b[1;32m    500\u001b[0m     \u001b[0;32melif\u001b[0m \u001b[0mmode\u001b[0m \u001b[0;32min\u001b[0m \u001b[0;34m(\u001b[0m\u001b[0;34m'w'\u001b[0m\u001b[0;34m,\u001b[0m \u001b[0;34m'wb'\u001b[0m\u001b[0;34m)\u001b[0m\u001b[0;34m:\u001b[0m\u001b[0;34m\u001b[0m\u001b[0m\n\u001b[1;32m    501\u001b[0m         \u001b[0;32mreturn\u001b[0m \u001b[0mWave_write\u001b[0m\u001b[0;34m(\u001b[0m\u001b[0mf\u001b[0m\u001b[0;34m)\u001b[0m\u001b[0;34m\u001b[0m\u001b[0m\n",
            "\u001b[0;32m/usr/lib/python3.6/wave.py\u001b[0m in \u001b[0;36m__init__\u001b[0;34m(self, f)\u001b[0m\n\u001b[1;32m    157\u001b[0m         \u001b[0mself\u001b[0m\u001b[0;34m.\u001b[0m\u001b[0m_i_opened_the_file\u001b[0m \u001b[0;34m=\u001b[0m \u001b[0;32mNone\u001b[0m\u001b[0;34m\u001b[0m\u001b[0m\n\u001b[1;32m    158\u001b[0m         \u001b[0;32mif\u001b[0m \u001b[0misinstance\u001b[0m\u001b[0;34m(\u001b[0m\u001b[0mf\u001b[0m\u001b[0;34m,\u001b[0m \u001b[0mstr\u001b[0m\u001b[0;34m)\u001b[0m\u001b[0;34m:\u001b[0m\u001b[0;34m\u001b[0m\u001b[0m\n\u001b[0;32m--> 159\u001b[0;31m             \u001b[0mf\u001b[0m \u001b[0;34m=\u001b[0m \u001b[0mbuiltins\u001b[0m\u001b[0;34m.\u001b[0m\u001b[0mopen\u001b[0m\u001b[0;34m(\u001b[0m\u001b[0mf\u001b[0m\u001b[0;34m,\u001b[0m \u001b[0;34m'rb'\u001b[0m\u001b[0;34m)\u001b[0m\u001b[0;34m\u001b[0m\u001b[0m\n\u001b[0m\u001b[1;32m    160\u001b[0m             \u001b[0mself\u001b[0m\u001b[0;34m.\u001b[0m\u001b[0m_i_opened_the_file\u001b[0m \u001b[0;34m=\u001b[0m \u001b[0mf\u001b[0m\u001b[0;34m\u001b[0m\u001b[0m\n\u001b[1;32m    161\u001b[0m         \u001b[0;31m# else, assume it is an open file object already\u001b[0m\u001b[0;34m\u001b[0m\u001b[0;34m\u001b[0m\u001b[0m\n",
            "\u001b[0;31mFileNotFoundError\u001b[0m: [Errno 2] No such file or directory: 'msms1.wav'"
          ]
        }
      ]
    },
    {
      "metadata": {
        "id": "IXcHZk8dq7wO",
        "colab_type": "text"
      },
      "cell_type": "markdown",
      "source": [
        "# Facts about our experimental setup\n",
        "\n",
        "## sounds used:\n",
        "We made use of the souds provided at the following link\n",
        "\n",
        "## Design Choices:\n",
        "During feature generation we decided on a Maximum interval for measuring speech characterics:\n",
        "This should be fixed at 20ms since human perception isn’t more precise than this. More so, speech signals remain constant for about 5-20 milliseconds. https://ieeexplore.ieee.org/document/1386250/\n",
        "\n",
        "There is a 25% overlap between windows chosen for feature extraction over the whole interval of the sound."
      ]
    },
    {
      "metadata": {
        "id": "oI5RVR9LrAZO",
        "colab_type": "text"
      },
      "cell_type": "markdown",
      "source": [
        ""
      ]
    },
    {
      "metadata": {
        "id": "bOtpfCOLpyBT",
        "colab_type": "text"
      },
      "cell_type": "markdown",
      "source": [
        "# Feature Exploration"
      ]
    },
    {
      "metadata": {
        "id": "_llgkX72q-aW",
        "colab_type": "text"
      },
      "cell_type": "markdown",
      "source": [
        ""
      ]
    },
    {
      "metadata": {
        "id": "pybC2MdhppVK",
        "colab_type": "text"
      },
      "cell_type": "markdown",
      "source": [
        "## Low-level Signals\n",
        "\n",
        "### rms\n",
        "http://citeseerx.ist.psu.edu/viewdoc/download?doi=10.1.1.36.6076&rep=rep1&type=pdf\n",
        "https://dsp.stackexchange.com/questions/19337/what-is-the-rms-value-of-a-signal-and-how-to-use-it\n",
        "\n",
        "RMS is the root-mean-square value of a signal. For a digitised signal, you can calculate it by squaring each value, finding the arithmetic mean of those squared values, and taking the square root of the result.\n",
        "\n",
        "Loosely speaking, it represents the average \"power\" of a signal.  \n",
        "\n",
        "#### definition \n",
        "$rms = \\sqrt{1/N\\sum_{i=1}^{N} |x[i]|^2}$\n",
        "  \n",
        "#### what are we trying to do?\n",
        "Calculate the signal rms on intervals of 20ms.\n",
        "\n",
        "### spectral centroid\n",
        "The spectral centroid is a measure characterise a spectrum indicating where \"center of mass\" of the spectrum is located. Perceptually, it has a robust connection with the impression of \"brightness\" of a sound. (wikipedia)\n",
        "This is done using the Fourier transform’s frequency and magnitude information. (https://ccrma.stanford.edu/~unjung/AIR/areaExam.pdf)\n",
        "\n",
        "#### definition\n",
        "$spectral centroid = \\sum_{k=1}^{N} kF[k] / \\sum_{k=1}^{N} F[k]$\n",
        "where F[k] is is the amplitude corresponding to bin k in DFT spectrum\n",
        "\n",
        "### zero crossing rate\n",
        "The zero-crossing rate is the rate of sign-changes along a signal. This has been used in speech recognition research has identified it as a key feature for classifying percussive sounds. (https://en.wikipedia.org/wiki/Zero-crossing_rate)\n",
        "\n",
        "#### definition \n",
        "https://www.asee.org/documents/zones/zone1/2008/student/ASEE12008_0044_paper.pdf\n",
        "\n",
        "$zero crossing rate =  \\sum_{m=\\infty}^{\\infty} |sgn[x(m)-sgn[x(m-1)]|w(n-m) $\n",
        "\n",
        "### spectral roll-off frequency\n",
        "This is a measure measure of the amount of the right-skewedness of the power spectrum. The spectral rolloff point is the fraction of bins in the power spectrum at which 85% of the power is at lower frequencies. http://jaudio.sourceforge.net/jaudio10/features/spectralrolloffpoint.html\n",
        "\n",
        "https://dsp.stackexchange.com/questions/10159/spectral-shape-and-properties\n",
        "\n",
        "\n",
        "### band energy ratio\n",
        "\n",
        "### delta spectrum magnitude\n",
        "\n",
        "### pitch\n",
        "\n",
        "### pitch strength"
      ]
    },
    {
      "metadata": {
        "id": "H8uAo1SX4xJI",
        "colab_type": "text"
      },
      "cell_type": "markdown",
      "source": [
        "## preprocessing\n",
        "Our sound files are about 110250 samples in length as per papaer https://pdfs.semanticscholar.org/67c9/df42b82425afc4801b92b115c8921bf4cab7.pdf we split try to aim for a feature pack of length approx 30000 samples, with overlap of 25%."
      ]
    },
    {
      "metadata": {
        "id": "vikig1gD4upY",
        "colab_type": "code",
        "colab": {}
      },
      "cell_type": "code",
      "source": [
        ""
      ],
      "execution_count": 0,
      "outputs": []
    },
    {
      "metadata": {
        "id": "OwiZlbdT7NVk",
        "colab_type": "text"
      },
      "cell_type": "markdown",
      "source": [
        "## feature extraction rms value"
      ]
    },
    {
      "metadata": {
        "id": "SB2Yzs4np1PD",
        "colab_type": "code",
        "colab": {}
      },
      "cell_type": "code",
      "source": [
        "def rms(sound, window_size, window_overlap):\n",
        "    \"\"\"function to calculate the rms values of subwindows of a signal\"\"\"\n",
        "    raw_audio = sound.raw_audio\n",
        "    rms_values = [rms_window(raw_audio[i:i+window_size]) for i in range(0,len(raw_audio),round((1-window_overlap)*window_size))]\n",
        "    return rms_values\n",
        "  \n",
        "def rms_window(window):\n",
        "    \"\"\"function return the rms value of a window\"\"\"\n",
        "    return np.sqrt(1/len(window)*np.sum(window*window))\n",
        "  "
      ],
      "execution_count": 0,
      "outputs": []
    },
    {
      "metadata": {
        "id": "iQPRvZKyGBLk",
        "colab_type": "code",
        "colab": {
          "base_uri": "https://localhost:8080/",
          "height": 1142
        },
        "outputId": "c1309cab-f30f-4c30-cccd-7774112a6c1e"
      },
      "cell_type": "code",
      "source": [
        "\"\"\"testing rms value\"\"\"\n",
        "file_path_speech = \"mssp3.wav\"\n",
        "file_path_music = \"msmv3.wav\"\n",
        "speech = sound(file_path_speech, from_drive=False)\n",
        "music = sound(file_path_music, from_drive=False)\n",
        "\n",
        "#50 samples corresponds to 20ms at sample frequency of 22kHz\n",
        "rms_values_speech = rms(speech,50,0.75)\n",
        "rms_values_music = rms(music,50,0.75)\n",
        "#print(len(sound1.raw_audio))\n",
        "\n",
        "#histograms plotted with scipy.stats.gaussian_kde\n",
        "\n",
        "plt.figure(0)\n",
        "plt.plot(rms_values_speech)\n",
        "plt.title(\"rms values for a speech for sub intervals of 20ms\")\n",
        "plt.xlabel(\"interval / 20ms\")\n",
        "plt.ylabel(\"rms value\")\n",
        "\n",
        "plt.figure(1)\n",
        "plt.hist(rms_values_speech)\n",
        "plt.title(\"histogram for rms values of speech for sub intervals of 20ms\")\n",
        "plt.xlabel(\"interval / 20ms\")\n",
        "plt.ylabel(\"rms value\")\n",
        "\n",
        "plt.figure(3)\n",
        "plt.plot(rms_values_music)\n",
        "plt.title(\"rms values for rms values of music for sub intervals of 20ms\")\n",
        "plt.xlabel(\"interval / 20ms\")\n",
        "plt.ylabel(\"rms value\")\n",
        "\n",
        "plt.figure(4)\n",
        "plt.hist(rms_values_music)\n",
        "plt.title(\"histogram for rms values of musci for sub intervals of 20ms\")\n",
        "plt.xlabel(\"interval / 20ms\")\n",
        "plt.ylabel(\"rms value\")\n",
        "\n"
      ],
      "execution_count": 77,
      "outputs": [
        {
          "output_type": "execute_result",
          "data": {
            "text/plain": [
              "Text(0,0.5,'rms value')"
            ]
          },
          "metadata": {
            "tags": []
          },
          "execution_count": 77
        },
        {
          "output_type": "display_data",
          "data": {
            "image/png": "[encoded data removed]",
            "text/plain": [
              "<matplotlib.figure.Figure at 0x7f3b32252da0>"
            ]
          },
          "metadata": {
            "tags": []
          }
        },
        {
          "output_type": "display_data",
          "data": {
            "image/png": "[encoded data removed]",
            "text/plain": [
              "<matplotlib.figure.Figure at 0x7f3b32708080>"
            ]
          },
          "metadata": {
            "tags": []
          }
        },
        {
          "output_type": "display_data",
          "data": {
            "image/png": "[encoded data removed]",
            "text/plain": [
              "<matplotlib.figure.Figure at 0x7f3b321f5630>"
            ]
          },
          "metadata": {
            "tags": []
          }
        },
        {
          "output_type": "display_data",
          "data": {
            "image/png": "[encoded data removed]",
            "text/plain": [
              "<matplotlib.figure.Figure at 0x7f3b32314080>"
            ]
          },
          "metadata": {
            "tags": []
          }
        }
      ]
    },
    {
      "metadata": {
        "id": "-H6jxGO078b0",
        "colab_type": "text"
      },
      "cell_type": "markdown",
      "source": [
        "## Thoughts on test:\n",
        "Speech has a more left skewed histogram, whereas music with vocals has a more normally distributed histogram. music without vocals is less discernable from speech as it also skews left.\n",
        "\n",
        "The shapes of the histogram suggest that it will be easier to discern music with vocals against speech with this feature as the music without vocals histograms are similiarly skew as the speech."
      ]
    },
    {
      "metadata": {
        "id": "ZUrv_VNfG3_w",
        "colab_type": "text"
      },
      "cell_type": "markdown",
      "source": [
        "## feature extraction spectral centroid"
      ]
    },
    {
      "metadata": {
        "id": "GvWOZUFyHAHg",
        "colab_type": "code",
        "colab": {}
      },
      "cell_type": "code",
      "source": [
        "def spectral_centroid(sound, bin_size):\n",
        "    \"\"\"compute spectral centroid of raw_data\"\"\"\n",
        "    # calcultate sample length\n",
        "    raw_audio = sound.raw_audio\n",
        "    sample_rate = sound.params['sample_rate']\n",
        "    n = len(raw_audio) #signal length\n",
        "    \n",
        "    # note: bin_size = sample_rate / fft_size \n",
        "    fft_window_size = int(sample_rate/bin_size)\n",
        "    # print(signal_length,\" \",sample_rate,\" \", bin_size,\" \",fft_window_size)\n",
        "      \n",
        "    # calculate fft for various fft windows and centroid for each sub fft\n",
        "    centroids = sub_sc(raw_audio[0:fft_window_size],n,sample_rate,bin_size)\n",
        "    #centroids = [sub_sc(raw_audio[i:i+fft_window_size],n, sample_rate, bin_size) for i in range(0,len(raw_audio),fft_window_size)]            \n",
        "    \n",
        "    '''\n",
        "    for i in range(len(centroids)):\n",
        "        print(centroids[i],\" \")\n",
        "    '''\n",
        "    print(\"average: \",np.average(centroids))\n",
        "    return    \n",
        "\n",
        "def sub_sc(raw_audio_subarray, n, sample_rate, bin_size):\n",
        "    # calculate fft\n",
        "    v_fft = fft(raw_audio_subarray)\n",
        "    return stSpectralCentroidAndSpread(v_fft,sample_rate)\n",
        "\n",
        "def stSpectralCentroidAndSpread(X, fs):\n",
        "    \"\"\"Computes spectral centroid of frame (given abs(FFT))\"\"\"\n",
        "    ind = (np.arange(1, len(X) + 1)) * (fs/(2.0 * len(X)))\n",
        "    \n",
        "    eps = 0.00000001\n",
        "    \n",
        "    Xt = X.copy()\n",
        "    Xt = Xt / Xt.max()\n",
        "    NUM = np.sum(ind * Xt)\n",
        "    DEN = np.sum(Xt) + eps\n",
        "\n",
        "    # Centroid:\n",
        "    C = (NUM / DEN)\n",
        "\n",
        "    # Spread:\n",
        "    S = np.sqrt(np.sum(((ind - C) ** 2) * Xt) / DEN)\n",
        "\n",
        "    # Normalize:\n",
        "    C = C / (fs / 2.0)\n",
        "    S = S / (fs / 2.0)\n",
        "\n",
        "    return C\n",
        "    "
      ],
      "execution_count": 0,
      "outputs": []
    },
    {
      "metadata": {
        "id": "_o22n4SdxFfq",
        "colab_type": "code",
        "colab": {}
      },
      "cell_type": "code",
      "source": [
        "def spectral_centroid2(sound, window_size):\n",
        "    \"\"\"compute spectral centroid of raw_data\"\"\"\n",
        "    raw_audio = sound.raw_audio\n",
        "    fft_window_size = int(sample_rate/bin_size)\n",
        "    centroids = [sc_window(raw_audio[i:i+window_size],sample_rate) for i in range(0,len(raw_audio),window_size/4)]            \n",
        "    return centroids\n",
        "    \n",
        "def sc_window(x,sample_rate):\n",
        "    \"\"\"computes spectral window for a frame x provided\"\"\"\n",
        "    length = len(x)\n",
        "    freq = (np.arange(1, length+1)) * (sample_rate/(2.0 * length))\n",
        "    mag = np.abs(np.fft.fft(x))\n",
        "    temp = mag.copy()\n",
        "    temp = temp/temp.max()\n",
        "    # compute the centroid per equation\n",
        "    return np.sum(freq*mag)/np.sum(mag)"
      ],
      "execution_count": 0,
      "outputs": []
    },
    {
      "metadata": {
        "id": "qNIHs1DVLOW6",
        "colab_type": "code",
        "colab": {
          "base_uri": "https://localhost:8080/",
          "height": 86
        },
        "outputId": "19c0e9fd-6b0a-4c9f-a03f-809e6e10d276"
      },
      "cell_type": "code",
      "source": [
        "\"\"\"testing spectral centroid value\"\"\"\n",
        "file_path2 = \"mssp1.wav\"\n",
        "sound2 = sound(file_path2, from_drive=False)\n",
        "sc = spectral_centroid(sound2,1)\n",
        "sc2 = spectral_centroid2(sound2,2)\n",
        "print(sc)\n",
        "print(sc2)"
      ],
      "execution_count": 14,
      "outputs": [
        {
          "output_type": "stream",
          "text": [
            "average:  (11025.500000403848+0j)\n",
            "length:  110250\n",
            "None\n",
            "60780825.0\n"
          ],
          "name": "stdout"
        }
      ]
    },
    {
      "metadata": {
        "id": "orSDMxeUl78e",
        "colab_type": "text"
      },
      "cell_type": "markdown",
      "source": [
        "## feature extraction zero crossing rate"
      ]
    },
    {
      "metadata": {
        "id": "TRojZLjcmGaO",
        "colab_type": "code",
        "colab": {}
      },
      "cell_type": "code",
      "source": [
        "def zero_crossing_rate(sound, window_size, window_overlap):\n",
        "    \"\"\"function to compute the zero crossing rate for subwindows of a sound\"\"\"\n",
        "    raw_audio = sound.raw_audio\n",
        "    zcr_values = [zcr_window(raw_audio[i:i+window_size]) for i in range(0,len(raw_audio),round((1-window_overlap)*window_size))]\n",
        "    return zcr_values\n",
        "  \n",
        "def zcr_window(window):\n",
        "    \"\"\"calculates the zero crossing rate for a window\"\"\"\n",
        "    length = len(window)\n",
        "    window2 = window[1:length] #ommit first value of window, so window1 and windo1 to align as n - n-1\n",
        "    window = window[0:length-1]\n",
        "    return 0.5*np.sum(np.absolute(np.sign(window)-np.sign(window2))) #zcr\n",
        "     \n",
        "  "
      ],
      "execution_count": 0,
      "outputs": []
    },
    {
      "metadata": {
        "id": "Pe878TzhA_42",
        "colab_type": "code",
        "colab": {
          "base_uri": "https://localhost:8080/",
          "height": 1142
        },
        "outputId": "e3473c2e-cf55-463e-e206-87b731ece98c"
      },
      "cell_type": "code",
      "source": [
        "'''testing zero crossing rate'''\n",
        "file_path_speech = \"mssp1.wav\"\n",
        "file_path_music = \"msmv3.wav\"\n",
        "speech = sound(file_path_speech, from_drive=False)\n",
        "music = sound(file_path_music, from_drive=False)\n",
        "\n",
        "#50 samples corresponds to 20ms at sample frequency of 22kHz\n",
        "#window overlap of 0.25\n",
        "zcr_values_speech = zero_crossing_rate(speech,50,0.25)\n",
        "zcr_values_music = zero_crossing_rate(music,50,0.25)\n",
        "#print(len(sound1.raw_audio))\n",
        "\n",
        "#histograms plotted with scipy.stats.gaussian_kde\n",
        "\n",
        "plt.figure(0)\n",
        "plt.plot(zcr_values_speech)\n",
        "plt.title(\"zcr values for a speech for sub intervals of 20ms\")\n",
        "plt.xlabel(\"interval / 20ms\")\n",
        "plt.ylabel(\"rms value\")\n",
        "\n",
        "plt.figure(1)\n",
        "plt.hist(zcr_values_speech)\n",
        "plt.title(\"histogram for zcr values of speech for sub intervals of 20ms\")\n",
        "plt.xlabel(\"interval / 20ms\")\n",
        "plt.ylabel(\"rms value\")\n",
        "\n",
        "plt.figure(3)\n",
        "plt.plot(zcr_values_music)\n",
        "plt.title(\"zcr values values of music for sub intervals of 20ms\")\n",
        "plt.xlabel(\"interval / 20ms\")\n",
        "plt.ylabel(\"rms value\")\n",
        "\n",
        "plt.figure(4)\n",
        "plt.hist(zcr_values_music)\n",
        "plt.title(\"histogram for zcr values of music for sub intervals of 20ms\")\n",
        "plt.xlabel(\"interval / 20ms\")\n",
        "plt.ylabel(\"rms value\")\n",
        "\n"
      ],
      "execution_count": 10,
      "outputs": [
        {
          "output_type": "execute_result",
          "data": {
            "text/plain": [
              "Text(0,0.5,'rms value')"
            ]
          },
          "metadata": {
            "tags": []
          },
          "execution_count": 10
        },
        {
          "output_type": "display_data",
          "data": {
            "image/png": "[encoded data removed]",
            "text/plain": [
              "<matplotlib.figure.Figure at 0x7fc81f1f1f98>"
            ]
          },
          "metadata": {
            "tags": []
          }
        },
        {
          "output_type": "display_data",
          "data": {
            "image/png": "[encoded data removed]",
            "text/plain": [
              "<matplotlib.figure.Figure at 0x7fc81d9344a8>"
            ]
          },
          "metadata": {
            "tags": []
          }
        },
        {
          "output_type": "display_data",
          "data": {
            "image/png": "[encoded data removed]",
            "text/plain": [
              "<matplotlib.figure.Figure at 0x7fc81d037eb8>"
            ]
          },
          "metadata": {
            "tags": []
          }
        },
        {
          "output_type": "display_data",
          "data": {
            "image/png": "[encoded data removed]",
            "text/plain": [
              "<matplotlib.figure.Figure at 0x7fc81d912e10>"
            ]
          },
          "metadata": {
            "tags": []
          }
        }
      ]
    },
    {
      "metadata": {
        "id": "gC053sJVFLDA",
        "colab_type": "text"
      },
      "cell_type": "markdown",
      "source": [
        "## feature extraction spectral roll-off frequency"
      ]
    },
    {
      "metadata": {
        "id": "N8isbfm9FXbU",
        "colab_type": "code",
        "colab": {}
      },
      "cell_type": "code",
      "source": [
        "def spectral_rolloff_frequency(sound, window_size,overlap):\n",
        "    raw_audio = np.asarray(sound.raw_audio)\n",
        "    raw_audio = np.squeeze(raw_audio)\n",
        "    fs = sound.params.get(\"sample_rate\")\n",
        "    \n",
        "    # obtain power series\n",
        "    f, pxx = welch(raw_audio, fs=fs, window='hamming', nperseg=window_size, noverlap=None)\n",
        "    f = np.expand_dims(f, axis=1)\n",
        "    pxx = np.expand_dims(pxx, axis=1)\n",
        "    plt.plot(f,pxx)\n",
        "    # caluclate fraction of bins at which we have 85% of power \n",
        "    # total area\n",
        "    total_area = np.sum(f)\n",
        "    thresh = 0.85*total_area\n",
        "    cum = 0.0\n",
        "    index = 0;\n",
        "    for i in range(0,len(f)):\n",
        "        if(cum < thresh):\n",
        "            cum += f[i]\n",
        "        else:\n",
        "            index = i\n",
        "            break\n",
        "    return pxx[i]\n",
        "    \n",
        "   "
      ],
      "execution_count": 0,
      "outputs": []
    },
    {
      "metadata": {
        "id": "ZSJFZCY7agGy",
        "colab_type": "code",
        "colab": {}
      },
      "cell_type": "code",
      "source": [
        "\n"
      ],
      "execution_count": 0,
      "outputs": []
    },
    {
      "metadata": {
        "id": "jKUtkppZGLnO",
        "colab_type": "code",
        "colab": {
          "base_uri": "https://localhost:8080/",
          "height": 354
        },
        "outputId": "d6ab6349-f756-403d-de4b-f35db9b64b87"
      },
      "cell_type": "code",
      "source": [
        "\"\"\"testing spectral roll-off frequency\"\"\"\n",
        "\n",
        "file_path_speech = \"mssp4.wav\"\n",
        "file_path_music = \"msmv4.wav\"\n",
        "speech = sound(file_path_speech, from_drive=False)\n",
        "music = sound(file_path_music, from_drive=False)\n",
        "\n",
        "#50 samples corresponds to 20ms at sample frequency of 22kHz\n",
        "fs = speech.params.get('sample_rate')\n",
        "n = round(fs*0.02)\n",
        "\n",
        "ms_per_frame = 25 / 1000.\n",
        "window_size = ms_per_frame * fs\n",
        "overlap = window_size // 2\n",
        "\n",
        "print(n)\n",
        "#window overlap of 0.25\n",
        "rolloff_speech = spectral_rolloff_frequency(speech,window_size,overlap)\n",
        "rolloff_music = spectral_rolloff_frequency(music,window_size,overlap)\n",
        "print(rolloff_speech)\n",
        "print(rolloff_music)\n",
        "\n",
        "\"\"\"\n",
        "plt.semilogy(f, Pxx_den)\n",
        "plt.ylim([0.5e-3, 1])\n",
        "plt.xlabel('frequency [Hz]')\n",
        "plt.ylabel('PSD [V**2/Hz]')\n",
        "plt.show()\n",
        "\n",
        "   speech --- music\n",
        "1: 0.891 --- 10.567\n",
        "2: 4.17  --- 21.581\n",
        "3: 9.95  --- 4.332\n",
        "4: 4.00  --- 0.703\n",
        "\n",
        "\"\"\""
      ],
      "execution_count": 72,
      "outputs": [
        {
          "output_type": "stream",
          "text": [
            "441\n",
            "[4.00175664]\n",
            "[0.70333888]\n"
          ],
          "name": "stdout"
        },
        {
          "output_type": "execute_result",
          "data": {
            "text/plain": [
              "\"\\nplt.semilogy(f, Pxx_den)\\nplt.ylim([0.5e-3, 1])\\nplt.xlabel('frequency [Hz]')\\nplt.ylabel('PSD [V**2/Hz]')\\nplt.show()\\n\\n   speech --- music\\n1: 0.891 --- 10.567\\n2: 4.17  --- 21.581\\n3: 9.95  --- 4.332\\n\""
            ]
          },
          "metadata": {
            "tags": []
          },
          "execution_count": 72
        },
        {
          "output_type": "display_data",
          "data": {
            "image/png": "[encoded data removed]",
            "text/plain": [
              "<matplotlib.figure.Figure at 0x7f3b32375ef0>"
            ]
          },
          "metadata": {
            "tags": []
          }
        }
      ]
    },
    {
      "metadata": {
        "id": "Iyw8k2m6ptWD",
        "colab_type": "text"
      },
      "cell_type": "markdown",
      "source": [
        "## Mel-frequency cepstrum (MFC)\n",
        "\n",
        "**Cepstrum**: the Fourier inverse of the logarithm of the spectrum of a signal. It can be seen as information about the rate of change in different spectral bands.\n",
        "\n",
        "**Power cepstrum**:\n",
        "\n",
        "$P_c = |F^{-1}\\{log(|F\\{f(t)\\}|^2)\\}|^2$\n",
        "\n",
        "**Mel scale**: a perceptual scale of pitches judged by listeners to be equal in distance from one another.\n",
        "\n",
        "Conversion from *f* hertz to *m* mels:\n",
        "\n",
        "$m = 2595 log_{10}(1 +\\frac{f}{700})$\n",
        "\n",
        "Conversion from *m* mels to *f* hertz:\n",
        "\n",
        "$f = 700(10^{\\frac{m}{2595}} - 1) = 700(e^{\\frac{m}{1127}} - 1)$\n",
        "\n",
        "MFC is a representation of the short-term power spectrum of a sound based on the mel scale. Mel-frequency cepstral coefficients (MFCCs) are coefficients that make up an MFC. They are derived from a cepstral representation of an audio clip. MFC differs from the cepstrum in that in the MFC, the frequency bands are equally spaced on the mel scale.\n",
        "\n",
        "To calculate MFCCs:\n",
        "\n",
        "1. Take fourier transform of signal\n",
        "\n",
        "2. Convert transform to powers\n",
        "\n",
        "3. Convert powers to mel scale\n",
        "\n",
        "4. Take logs of mel powers\n",
        "\n",
        "5. Take discrete cosine transform of mel log powers\n",
        "\n",
        "6. The MFCCs are the amplitudes of the above quantities\n",
        "\n",
        "\n",
        "52 features total:\n",
        "\n",
        "1. 1-13: DC values of the MFCC coefficients\n",
        "\n",
        "2. 14-26: 1-2Hz modulation energy of the MFCC coefficients\n",
        "\n",
        "3. 27-39: 3-15Hz modulation energy of MFCC coefficients\n",
        "\n",
        "4. 40-52: 20-150 modulation energy of MFCC coefficients\n",
        "\n",
        "### Discrete Cosine Transform (Type II)\n",
        "\n",
        "The DCT comes in 8 forms. The most common one is the Type II DCT, defined below:\n",
        "\n",
        "$y[k] = 2 \\Sigma^{N-1}_{n=0} x[n]cos(\\frac{\\pi (2n+1)k}{2N}) \\textrm{  for 0 <= k < N} $\n",
        "\n",
        "The DCT can be normalized by multiplying by a scale factor f:\n",
        "\n",
        "f = sqrt(1/4N) if k = 0 or sqrt(1/2N) otherwise"
      ]
    },
    {
      "metadata": {
        "id": "7g2Esqg9p2WQ",
        "colab_type": "code",
        "colab": {}
      },
      "cell_type": "code",
      "source": [
        "file_name = 'mssp4.wav'\n",
        "sanje_mssp4 = sound(file_name, from_drive=False)"
      ],
      "execution_count": 0,
      "outputs": []
    },
    {
      "metadata": {
        "id": "p6mFfEofyfpg",
        "colab_type": "code",
        "colab": {}
      },
      "cell_type": "code",
      "source": [
        "sanje_mssp4_data = sanje_mssp4.raw_audio"
      ],
      "execution_count": 0,
      "outputs": []
    },
    {
      "metadata": {
        "id": "riREziHV9FcD",
        "colab_type": "code",
        "colab": {}
      },
      "cell_type": "code",
      "source": [
        "def frame_signal(signal, sampling_rate=44100, frame_size=25, overlap=0.5, center=True):\n",
        "    \"\"\"\n",
        "    Args\n",
        "        frame_size: (int) frame size in milliseconds\n",
        "    \"\"\"\n",
        "    frame_size = frame_size / 1000. * sampling_rate\n",
        "    step = int(round(frame_size * (1 - overlap)))\n",
        "    signal = [signal[i: i + step] for i in range(0, len(signal), step)]    \n",
        "    if center:\n",
        "        signal = []\n",
        "    return signal\n",
        "    \n",
        "\n",
        "def mel(f):\n",
        "    \"\"\"Map f to mel scale\"\"\"\n",
        "    return 1125 * np.log(1 + f / 700.)\n",
        "\n",
        "def inverse_mel(m):\n",
        "    \"\"\"Map mel frequency to hertz\n",
        "    Args\n",
        "        m: (int or numpy array) frequency on mel scale\n",
        "    Returns\n",
        "        f (int or numpy array) frequency on hertz scale\n",
        "    \"\"\"\n",
        "    return 700 * (np.exp(m / 1125.) - 1)\n",
        "\n",
        "def get_mel_filterbank(lower_freq=300, fft_size=257, sampling_rate=22050, num_banks=26):\n",
        "    mel_lower = mel(lower_freq)\n",
        "    mel_upper = mel(sampling_rate)\n",
        "    mel_scale = np.linspace(mel_lower, mel_upper, num_banks + 2)\n",
        "    \n",
        "    hertz_scale = inverse_mel(mel_scale)\n",
        "    hertz_scale = np.floor((fft_size + 1) * hertz_scale / sampling_rate)\n",
        "    idx = np.arange(fft_size)\n",
        "    filter_banks = np.zeros((num_banks, fft_size))\n",
        "    eps = 1e-12\n",
        "    for m in range(num_banks):\n",
        "        mask = np.logical_and(idx >= hertz_scale[m], idx <= hertz_scale[m + 1])\n",
        "        x = (idx - hertz_scale[m]) / (hertz_scale[m + 1] - hertz_scale[m] + eps)\n",
        "        filter_banks[m, mask] = x[mask]\n",
        "        mask = np.logical_and(idx >= hertz_scale[m + 1], idx <= hertz_scale[m + 2])\n",
        "        x = (hertz_scale[m + 2] - idx) / (hertz_scale[m + 2] - hertz_scale[m + 1] + eps)\n",
        "        filter_banks[m, mask] = x[mask]\n",
        "    return filter_banks\n",
        "\n",
        "def get_periodogram(signal, fft_size, frame_size=25, overlap=0.5, center=True):\n",
        "    frames = frames_signal(audio)\n",
        "    if center:  # mean-center \n",
        "        frames = [frame - sum(frame) / len(frame) for frame in frames]\n",
        "    ft = np.array(map(partial(np.fft.fft, n=fft_size), frames))\n",
        "    N = len(frames[0])\n",
        "    periodogram = np.abs(ft) ** 2 / N\n",
        "    return periodogram\n",
        "\n",
        "def mfcc_features(audio, ms_per_frame=20, lower_freq=300, fft_size=512, sampling_rate=22050, num_banks=26, num_keep_mfcc=13):\n",
        "    frame_size = int(round(ms_per_frame * sampling_rate / 1000.))\n",
        "    overlap = frame_size // 2\n",
        "    _, periodogram = welch(audio, fs=sampling_rate, nfft=fft_size, window='hamming', nperseg=frame_size, noverlap=overlap)\n",
        "    filterbanks = get_mel_filterbank(lower_freq, len(periodogram), sampling_rate, num_banks)\n",
        "    energies = (periodogram * filterbanks).sum(axis=-1)\n",
        "    energies = np.log(energies)\n",
        "    energies = dct(energies)\n",
        "    features = energies[:num_keep_mfcc]\n",
        "    return features"
      ],
      "execution_count": 0,
      "outputs": []
    },
    {
      "metadata": {
        "id": "QSSQ5SRokJe1",
        "colab_type": "code",
        "colab": {}
      },
      "cell_type": "code",
      "source": [
        "all_files = ['msmn4.wav',\n",
        "             'msmv4.wav',\n",
        "             'mssp2.wav',\n",
        "             'msms4.wav',\n",
        "             'msmv2.wav',\n",
        "             'mssp1.wav',\n",
        "             'msms3.wav',\n",
        "             'msmn2.wav',\n",
        "             'mssp3.wav',\n",
        "             'msmv3.wav',\n",
        "             'msmn1.wav',\n",
        "             'msms2.wav',\n",
        "             'mssp4.wav',\n",
        "             'msmv1.wav']"
      ],
      "execution_count": 0,
      "outputs": []
    },
    {
      "metadata": {
        "id": "U0B35agZkQyl",
        "colab_type": "code",
        "colab": {}
      },
      "cell_type": "code",
      "source": [
        "# pull all data\n",
        "speech_files = [f for f in all_files if 'mssp' in f]\n",
        "music_files = [f for f in all_files if 'msmn' in f]\n",
        "speech_music_files = [f for f in all_files if 'msms' in f]\n",
        "\n",
        "all_speech_audio = [sound(s).raw_audio for s in speech_files]\n",
        "all_music_audio = [sound(s).raw_audio for s in music_files]\n",
        "all_speech_music_audio = [sound(s).raw_audio for s in speech_music_files]\n",
        "\n",
        "# compute mfcc features for each file\n",
        "all_speech_mfcc = np.array([mfcc_features(a) for a in all_speech_audio])\n",
        "all_music_mfcc = np.array([mfcc_features(a) for a in all_music_audio])\n",
        "all_speech_music_mfcc = np.array([mfcc_features(a) for a in all_speech_music_audio])"
      ],
      "execution_count": 0,
      "outputs": []
    },
    {
      "metadata": {
        "id": "bp64vWL4kBRe",
        "colab_type": "text"
      },
      "cell_type": "markdown",
      "source": [
        "## Clustering MFCC Features\n",
        "\n",
        "### Approach 1: K-Means"
      ]
    },
    {
      "metadata": {
        "id": "iIXsDFeilTHt",
        "colab_type": "code",
        "colab": {}
      },
      "cell_type": "code",
      "source": [
        "X = np.vstack((all_speech_mfcc, all_music_mfcc, all_speech_music_mfcc))\n",
        "y = np.array([0] * len(all_speech_mfcc)+ [1] * len(all_music_mfcc) + [2] * len(all_speech_music_mfcc))"
      ],
      "execution_count": 0,
      "outputs": []
    },
    {
      "metadata": {
        "id": "Ppi_P7JRluvv",
        "colab_type": "code",
        "colab": {}
      },
      "cell_type": "code",
      "source": [
        "km = KMeans(n_clusters=3)"
      ],
      "execution_count": 0,
      "outputs": []
    },
    {
      "metadata": {
        "id": "30MShrr3lx5w",
        "colab_type": "code",
        "colab": {}
      },
      "cell_type": "code",
      "source": [
        "labels = km.fit_predict(X)"
      ],
      "execution_count": 0,
      "outputs": []
    },
    {
      "metadata": {
        "id": "lBlAQ6kXl0cM",
        "colab_type": "code",
        "colab": {
          "base_uri": "https://localhost:8080/",
          "height": 34
        },
        "outputId": "afe6c677-f7c0-4326-a021-0bf8e598df90"
      },
      "cell_type": "code",
      "source": [
        "y"
      ],
      "execution_count": 19,
      "outputs": [
        {
          "output_type": "execute_result",
          "data": {
            "text/plain": [
              "array([0, 0, 0, 0, 1, 1, 1, 2, 2, 2])"
            ]
          },
          "metadata": {
            "tags": []
          },
          "execution_count": 19
        }
      ]
    },
    {
      "metadata": {
        "id": "6POuxAjpl3JJ",
        "colab_type": "code",
        "colab": {
          "base_uri": "https://localhost:8080/",
          "height": 34
        },
        "outputId": "74ff63b8-fe03-46c2-8c48-dac60ad2ea01"
      },
      "cell_type": "code",
      "source": [
        "labels"
      ],
      "execution_count": 20,
      "outputs": [
        {
          "output_type": "execute_result",
          "data": {
            "text/plain": [
              "array([0, 0, 0, 0, 2, 0, 2, 1, 1, 1], dtype=int32)"
            ]
          },
          "metadata": {
            "tags": []
          },
          "execution_count": 20
        }
      ]
    },
    {
      "metadata": {
        "id": "nAM8HMXupvJg",
        "colab_type": "text"
      },
      "cell_type": "markdown",
      "source": [
        "## Psychoacoustic Features"
      ]
    },
    {
      "metadata": {
        "id": "pJ1NWFVdpojx",
        "colab_type": "code",
        "colab": {}
      },
      "cell_type": "code",
      "source": [
        "\n",
        "\n"
      ],
      "execution_count": 0,
      "outputs": []
    },
    {
      "metadata": {
        "id": "AUPFEPY2oJGR",
        "colab_type": "code",
        "colab": {}
      },
      "cell_type": "code",
      "source": [
        ""
      ],
      "execution_count": 0,
      "outputs": []
    }
  ]
}