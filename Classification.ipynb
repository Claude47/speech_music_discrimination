{
 "cells": [
  {
   "cell_type": "markdown",
   "metadata": {
    "colab_type": "text",
    "id": "CTi44TJUx7o0"
   },
   "source": [
    "## Sound storage, extraction and internal representation"
   ]
  },
  {
   "cell_type": "code",
   "execution_count": 146,
   "metadata": {
    "colab": {
     "autoexec": {
      "startup": false,
      "wait_interval": 0
     },
     "base_uri": "https://localhost:8080/",
     "height": 139
    },
    "colab_type": "code",
    "executionInfo": {
     "elapsed": 3724,
     "status": "ok",
     "timestamp": 1524143656376,
     "user": {
      "displayName": "Claude Betz",
      "photoUrl": "https://lh3.googleusercontent.com/a/default-user=s128",
      "userId": "113888807371476882865"
     },
     "user_tz": -120
    },
    "id": "wX_BiAu7xzis",
    "outputId": "079c54d5-726d-4398-e90c-a67d700b5fae",
    "scrolled": true
   },
   "outputs": [
    {
     "name": "stdout",
     "output_type": "stream",
     "text": [
      "Requirement already satisfied: dropbox in /home/betz/anaconda3/lib/python3.6/site-packages\n",
      "Requirement already satisfied: six>=1.3.0 in /home/betz/anaconda3/lib/python3.6/site-packages (from dropbox)\n",
      "Requirement already satisfied: requests>=2.16.2 in /home/betz/anaconda3/lib/python3.6/site-packages (from dropbox)\n",
      "Requirement already satisfied: chardet<3.1.0,>=3.0.2 in /home/betz/anaconda3/lib/python3.6/site-packages (from requests>=2.16.2->dropbox)\n",
      "Requirement already satisfied: idna<2.7,>=2.5 in /home/betz/anaconda3/lib/python3.6/site-packages (from requests>=2.16.2->dropbox)\n",
      "Requirement already satisfied: urllib3<1.23,>=1.21.1 in /home/betz/anaconda3/lib/python3.6/site-packages (from requests>=2.16.2->dropbox)\n",
      "Requirement already satisfied: certifi>=2017.4.17 in /home/betz/anaconda3/lib/python3.6/site-packages (from requests>=2.16.2->dropbox)\n",
      "\u001b[33mYou are using pip version 9.0.1, however version 10.0.1 is available.\n",
      "You should consider upgrading via the 'pip install --upgrade pip' command.\u001b[0m\n"
     ]
    }
   ],
   "source": [
    "!pip install dropbox"
   ]
  },
  {
   "cell_type": "code",
   "execution_count": 1,
   "metadata": {
    "colab": {
     "autoexec": {
      "startup": false,
      "wait_interval": 0
     }
    },
    "colab_type": "code",
    "id": "mdhmr0JIx0t2"
   },
   "outputs": [],
   "source": [
    "import numpy as np\n",
    "import scipy as sc\n",
    "from scipy.signal import welch\n",
    "from scipy.fftpack import fft\n",
    "from scipy.fftpack import dct \n",
    "from scipy.fftpack import dst\n",
    "import scipy.stats as stats\n",
    "import matplotlib.pyplot as plt\n",
    "%matplotlib inline\n",
    "import wave\n",
    "from os.path import *\n",
    "import os\n",
    "from functools import partial\n",
    "import dropbox\n",
    "\n",
    "#from google.colab import files\n",
    "import struct\n",
    "from sklearn.cluster import KMeans"
   ]
  },
  {
   "cell_type": "code",
   "execution_count": 2,
   "metadata": {
    "colab": {
     "autoexec": {
      "startup": false,
      "wait_interval": 0
     }
    },
    "colab_type": "code",
    "id": "v3kDFs1Ox3XM"
   },
   "outputs": [],
   "source": [
    "'''\n",
    "    features.py\n",
    "    Prototyping feature extraction\n",
    "    09/04/2018\n",
    "'''\n",
    "\n",
    "import numpy as np\n",
    "import scipy as sc\n",
    "import matplotlib.pyplot as plt\n",
    "import wave\n",
    "from os.path import *\n",
    "import os\n",
    "import dropbox\n",
    "\n",
    "import struct\n",
    "\n",
    "def upload_local_file():\n",
    "    '''used to upload local .wav files f'''\n",
    "    uploaded = files.upload()\n",
    "\n",
    "    for fn in uploaded.keys():\n",
    "        print('User uploaded file \"{name}\" with length {length} bytes'.format(\n",
    "            name=fn, length=len(uploaded[fn])))\n",
    "\n",
    "class sound:    \n",
    "    def __init__(self, path, from_drive=True, dbx_access_token='jym07rxV7JAAAAAAAAAASYVjyBOd0G9JJKzC_5dgzrDHKeVsdZG1akcSvWnYBoKd'):\n",
    "        '''sound object, initialise with path to .wav file'''\n",
    "        self.from_drive = from_drive\n",
    "        self.path = path\n",
    "        self.dbx_access_token = dbx_access_token\n",
    "        self.dbx = dropbox.Dropbox(self.dbx_access_token)\n",
    "        self.file = self.read_wave_file()\n",
    "        self.params, self.raw_audio = self.extract_raw_audio()\n",
    "        if self.from_drive:\n",
    "              self.frame_count = self.file.getnframes()\n",
    "        else:\n",
    "              self.frame_count = len(self.raw_audio)\n",
    "    \n",
    "    def read_wave_file(self):\n",
    "        if self.from_drive:\n",
    "            file = wave.open(self.path)\n",
    "        else:\n",
    "            if not self.path.startswith('/'):\n",
    "                path = '/' + self.path\n",
    "            else:\n",
    "                path = self.path\n",
    "            _, file = self.dbx.files_download(path)\n",
    "            file = file.content\n",
    "        return file\n",
    "      \n",
    "    def parameters(self):\n",
    "        '''returns parameters of .wav [nchannels, sampwidth, framerate, nframes, comptype, compname]'''\n",
    "        return self.file.getparams()\n",
    "\n",
    "    def close(self):\n",
    "        return self.file.close()\n",
    "  \n",
    "    def extract_raw_audio(self): \n",
    "        '''extract raw audio needed for dsp'''\n",
    "        if self.from_drive:\n",
    "            signal = self.file.readframes(-1)\n",
    "            raw_audio = np.fromstring(signal,'int16')\n",
    "            params = self.file.getparams()\n",
    "        else:\n",
    "            params, raw_audio = self.read_wav_string(self.file)\n",
    "        return params, raw_audio\n",
    "      \n",
    "    def visualise_time(self):\n",
    "        '''plot raw_audio'''\n",
    "        plt.plot(self.raw_audio)\n",
    "        plt.show()\n",
    "    \n",
    "    \n",
    "    def read_wav_string(self, byte_string):\n",
    "        wav_file = {'chunk_id': struct.unpack(\">I\", byte_string[:4]),\n",
    "                      'chunk_size': struct.unpack(\"<I\", byte_string[4:8]),\n",
    "                      'format': struct.unpack(\">I\", byte_string[8:12]),\n",
    "                      'subchunk1_id': struct.unpack(\">I\", byte_string[12:16]),\n",
    "                      'subchunk1_size': struct.unpack(\">I\", byte_string[16:20]),\n",
    "                      'audio_format': struct.unpack(\"<H\", byte_string[20:22]),\n",
    "                      'num_channels': struct.unpack(\"<H\", byte_string[22:24]),\n",
    "                      'sample_rate': struct.unpack(\"<I\", byte_string[24:28]),\n",
    "                      'byte_rate': struct.unpack(\"<I\", byte_string[28:32]),\n",
    "                      'block_align': struct.unpack(\"<H\", byte_string[32:34]),\n",
    "                      'bits_per_sample': struct.unpack(\"<H\", byte_string[34:36]),\n",
    "                      'subchunk2_id': struct.unpack(\">I\", byte_string[36:40]),\n",
    "                      'subchunk2_size': struct.unpack(\"<I\", byte_string[40:44])}\n",
    "        data = np.array([struct.unpack(\"<h\", byte_string[44:][i:i+2]) for i in range(len(byte_string[44:]))[::2]])\n",
    "        wav_file['frame_count'] = len(data)\n",
    "        wav_file = {k: wav_file[k][0] if isinstance(wav_file[k], tuple) else wav_file for k in wav_file.keys()}\n",
    "        return wav_file, data\n",
    "    \n",
    "def split_audio(audio, nchunks=6):\n",
    "    N = len(audio)\n",
    "    samples_per_chunk = N // nchunks\n",
    "    return [audio[min(i, N - samples_per_chunk): min(N, i + samples_per_chunk)]\n",
    "            for i in range(0, len(audio), samples_per_chunk)]\n",
    "\n",
    "def break_down_track(track, nchunks=6):\n",
    "    return np.array([a for audio in track for a in split_audio(audio, nchunks)])\n",
    "         "
   ]
  },
  {
   "cell_type": "markdown",
   "metadata": {
    "colab_type": "text",
    "id": "sZVhogYuyG8u"
   },
   "source": [
    "# Feature Extraction\n",
    "\n",
    "## Low Level Features\n",
    "\n",
    "### rms value"
   ]
  },
  {
   "cell_type": "code",
   "execution_count": 3,
   "metadata": {
    "colab": {
     "autoexec": {
      "startup": false,
      "wait_interval": 0
     }
    },
    "colab_type": "code",
    "id": "CGxzQsZeyOks"
   },
   "outputs": [],
   "source": [
    "def rms(raw_audio, analysis_window=441, texture_window=50, overlap=0.5):\n",
    "    \"\"\"function to calculate the rms values of subwindows of a signal\"\"\"\n",
    "    # step1: calculate rms values for windows (20ms or so)\n",
    "    rms_values = [rms_window1(raw_audio[i:i+analysis_window]) for i in range(0,len(raw_audio),round((1-overlap)*analysis_window))]\n",
    "    # step2: calculate local variance of rms in say 1 second of data i.e 50 windows\n",
    "    var_values = [rms_variance1(rms_values[i:i+texture_window]) for i in range(0,len(rms_values),texture_window)] \n",
    "    # step3: get the mean of these local variances as feature for that sound\n",
    "    mean = np.mean(var_values)\n",
    "    return mean #feature\n",
    "    #return rms_values, var_values, mean #used for visualisation\n",
    "\n",
    "def rms_window1(window):\n",
    "    \"\"\"function return the rms value of a window\"\"\"\n",
    "    window2 = np.array(window, dtype='int64')**2\n",
    "    return np.sqrt((1/len(window))*np.sum(window2))\n",
    "\n",
    "def rms_variance1(l_window):\n",
    "    \"\"\"function to return local variance over a larger window\"\"\"\n",
    "    return np.var(l_window)  "
   ]
  },
  {
   "cell_type": "markdown",
   "metadata": {
    "colab_type": "text",
    "id": "PrsrLBf1yd9I"
   },
   "source": [
    "### percentage low energy frames"
   ]
  },
  {
   "cell_type": "code",
   "execution_count": 4,
   "metadata": {
    "colab": {
     "autoexec": {
      "startup": false,
      "wait_interval": 0
     }
    },
    "colab_type": "code",
    "id": "5Rnt9pagybIG"
   },
   "outputs": [],
   "source": [
    "def ple(raw_audio, analysis_window=441, texture_window=50, overlap=0.5):\n",
    "    \"\"\"function to calculate the percentage low energy frames of a signal\"\"\"\n",
    "    # step1: calculate rms values for windows (20ms or so)\n",
    "    rms_values = [rms_window2(raw_audio[i:i+analysis_window]) for i in range(0,len(raw_audio),round((1-overlap)*analysis_window))]\n",
    "    # step2: the average rms value of the last second of data and use 0.5x this as threshold\n",
    "    mean_values = [past_mean(rms_values[i-texture_window:i]) for i in range(texture_window,len(rms_values))] \n",
    "        \n",
    "    # step3: filter rms according to mean\n",
    "    rms_adjusted = rms_values[texture_window:]\n",
    "    ple_frames = [le_filter(rms_adjusted[i], mean_values[i]) for i in range(0,len(mean_values))] \n",
    "    nframes = (list(ple_frames).count(1))/float(len(ple_frames))\n",
    "    return nframes #feature\n",
    "    #return rms_values, np.insert(mean_values,0,np.zeros(texture_window)), nframes #used for visualisation\n",
    "    \n",
    "def rms_window2(window):\n",
    "    \"\"\"function return the rms value of a window\"\"\"\n",
    "    window2 = np.array(window, dtype='int64')**2\n",
    "    return np.sqrt((1/len(window2))*np.sum(window2))\n",
    "  \n",
    "def past_mean(mean_window):\n",
    "    \"\"\"function to return past mean for an rms value i\"\"\"\n",
    "    return np.mean(mean_window)\n",
    "  \n",
    "def le_filter(rms_curr, past_mean):\n",
    "    \"\"\"function to filter is low energy frames\"\"\"\n",
    "    return 1 if(rms_curr < past_mean) else 0"
   ]
  },
  {
   "cell_type": "markdown",
   "metadata": {
    "colab_type": "text",
    "id": "dDCLWXm_ylRI"
   },
   "source": [
    "### zero crossing rate"
   ]
  },
  {
   "cell_type": "code",
   "execution_count": 5,
   "metadata": {
    "colab": {
     "autoexec": {
      "startup": false,
      "wait_interval": 0
     }
    },
    "colab_type": "code",
    "id": "B4BEBdpyykZk"
   },
   "outputs": [],
   "source": [
    "def zcr(raw_audio, analysis_window=441, texture_window=50, overlap=0.5):\n",
    "    \"\"\"function to compute the zero crossing rate for subwindows of a sound\"\"\"    \n",
    "    # step1: calculate zcr\n",
    "    zcr_values = [zcr_window(raw_audio[i:i+analysis_window]) for i in range(0,len(raw_audio),round((1-overlap)*analysis_window))]\n",
    "\n",
    "    # step2: calculate local variance of zcr in say 1 second of data i.e 50 windows\n",
    "    var_values = [zcr_variance(zcr_values[i:i+texture_window]) for i in range(0,len(zcr_values),texture_window)] \n",
    "\n",
    "    # step3: get the mean of these local variances as feature for that sound\n",
    "    mean = np.mean(var_values)\n",
    "\n",
    "    return mean #feature\n",
    "    #return zcr_values, var_values, mean #used for visualisation\n",
    "\n",
    "def zcr_window(window):\n",
    "    \"\"\"calculates the zero crossing rate for a window\"\"\"\n",
    "    length = len(window)\n",
    "    window1 = window[1:length] # n \n",
    "    window2 = window[0:length-1] # (n-1)\n",
    "    return (1/(length-1))*np.sum(np.absolute(np.sign(window1)-np.sign(window2))) #zcr\n",
    "     \n",
    "def zcr_variance(l_window):\n",
    "    \"\"\"function to return local variance over a larger window\"\"\"\n",
    "    return np.var(l_window)"
   ]
  },
  {
   "cell_type": "markdown",
   "metadata": {
    "colab_type": "text",
    "id": "hrVttfYYyv3O"
   },
   "source": [
    "### spectral roll-off frequency"
   ]
  },
  {
   "cell_type": "code",
   "execution_count": 6,
   "metadata": {
    "colab": {
     "autoexec": {
      "startup": false,
      "wait_interval": 0
     }
    },
    "colab_type": "code",
    "id": "aiyQTOX4ys5g"
   },
   "outputs": [],
   "source": [
    "def srf(raw_audio, fs=22050, analysis_window=441, texture_window=22050):\n",
    "    \"\"\"return var of calculate spectral roll-off frequency\"\"\"    \n",
    "    # obtain power series\n",
    "    omega = [texture_srf(raw_audio[i:i+texture_window],fs,analysis_window) for i in range(0,len(raw_audio),texture_window)]\n",
    "    return np.var(omega)\n",
    "    \n",
    "def texture_srf(window,fs,analysis_window):\n",
    "    \"\"\"return srf for window\"\"\"\n",
    "    # caluclate fraction of bins at which we have 85% of power \n",
    "    f, pxx = welch(window, fs=fs, window='hamming', nperseg=analysis_window, noverlap=None)\n",
    "   \n",
    "    total_area = np.sum(pxx)\n",
    "    thresh = 0.85*total_area\n",
    "    cum = 0.0\n",
    "    for i in range(0,len(f)):\n",
    "        if(cum < thresh):\n",
    "            cum += pxx[i]\n",
    "        else:\n",
    "            break\n",
    "    return f[i]"
   ]
  },
  {
   "cell_type": "markdown",
   "metadata": {
    "colab_type": "text",
    "id": "zkp0qcULCH02"
   },
   "source": [
    "## MFCC Features"
   ]
  },
  {
   "cell_type": "code",
   "execution_count": 7,
   "metadata": {
    "colab": {
     "autoexec": {
      "startup": false,
      "wait_interval": 0
     }
    },
    "colab_type": "code",
    "id": "NDqAyvcfCO_w"
   },
   "outputs": [],
   "source": [
    "def frame_signal(signal, sampling_rate=44100, frame_size=25, overlap=0.5, center=True):\n",
    "    \"\"\"\n",
    "    Args\n",
    "        frame_size: (int) frame size in milliseconds\n",
    "    \"\"\"\n",
    "    frame_size = frame_size / 1000. * sampling_rate\n",
    "    step = int(round(frame_size * (1 - overlap)))\n",
    "    signal = [signal[i: i + step] for i in range(0, len(signal), step)]    \n",
    "    if center:\n",
    "        signal = []\n",
    "    return signal\n",
    "    \n",
    "def mel(f):\n",
    "    \"\"\"Map f to mel scale\"\"\"\n",
    "    return 1125 * np.log(1 + f / 700.)\n",
    "\n",
    "def inverse_mel(m):\n",
    "    \"\"\"Map mel frequency to hertz\n",
    "    Args\n",
    "        m: (int or numpy array) frequency on mel scale\n",
    "    Returns\n",
    "        f (int or numpy array) frequency on hertz scale\n",
    "    \"\"\"\n",
    "    return 700 * (np.exp(m / 1125.) - 1)\n",
    "\n",
    "def get_mel_filterbank(lower_freq=300, fft_size=257, sampling_rate=22050, num_banks=26):\n",
    "    mel_lower = mel(lower_freq)\n",
    "    mel_upper = mel(sampling_rate)\n",
    "    mel_scale = np.linspace(mel_lower, mel_upper, num_banks + 2)\n",
    "    \n",
    "    hertz_scale = inverse_mel(mel_scale)\n",
    "    hertz_scale = np.floor((fft_size + 1) * hertz_scale / sampling_rate)\n",
    "    idx = np.arange(fft_size)\n",
    "    filter_banks = np.zeros((num_banks, fft_size))\n",
    "    eps = 1e-12\n",
    "    for m in range(num_banks):\n",
    "        mask = np.logical_and(idx >= hertz_scale[m], idx <= hertz_scale[m + 1])\n",
    "        x = (idx - hertz_scale[m]) / (hertz_scale[m + 1] - hertz_scale[m] + eps)\n",
    "        filter_banks[m, mask] = x[mask]\n",
    "        mask = np.logical_and(idx >= hertz_scale[m + 1], idx <= hertz_scale[m + 2])\n",
    "        x = (hertz_scale[m + 2] - idx) / (hertz_scale[m + 2] - hertz_scale[m + 1] + eps)\n",
    "        filter_banks[m, mask] = x[mask]\n",
    "    return filter_banks\n",
    "\n",
    "def get_periodogram(signal, fft_size, frame_size=25, overlap=0.5, center=True):\n",
    "    frames = frames_signal(audio)\n",
    "    if center:  # mean-center \n",
    "        frames = [frame - sum(frame) / len(frame) for frame in frames]\n",
    "    ft = np.array(map(partial(np.fft.fft, n=fft_size), frames))\n",
    "    N = len(frames[0])\n",
    "    periodogram = np.abs(ft) ** 2 / N\n",
    "    return periodogram\n",
    "\n",
    "def mfcc_features(audio, ms_per_frame=20, lower_freq=300, fft_size=512, sampling_rate=22050, num_banks=26, num_keep_mfcc=13):\n",
    "    frame_size = int(round(ms_per_frame * sampling_rate / 1000.))\n",
    "    overlap = frame_size // 2\n",
    "    _, periodogram = welch(audio, fs=sampling_rate, nfft=fft_size, window='hamming', nperseg=frame_size, noverlap=overlap)\n",
    "    filterbanks = get_mel_filterbank(lower_freq, len(periodogram), sampling_rate, num_banks)\n",
    "    energies = (periodogram * filterbanks).sum(axis=-1)\n",
    "    energies = np.log(energies)\n",
    "    energies = dct(energies)\n",
    "    features = energies[:num_keep_mfcc]\n",
    "    return features"
   ]
  },
  {
   "cell_type": "markdown",
   "metadata": {
    "colab_type": "text",
    "id": "pcOI2tI1zLW2"
   },
   "source": [
    "# Classification"
   ]
  },
  {
   "cell_type": "markdown",
   "metadata": {
    "colab_type": "text",
    "id": "DA8V4bTOf_h2"
   },
   "source": [
    "## File Upload"
   ]
  },
  {
   "cell_type": "code",
   "execution_count": 8,
   "metadata": {
    "colab": {
     "autoexec": {
      "startup": false,
      "wait_interval": 0
     }
    },
    "colab_type": "code",
    "id": "P5Bdgbynfasw"
   },
   "outputs": [],
   "source": [
    "music = ['bagpipe.wav',\n",
    "'ballad.wav',\n",
    "'bartok.wav',\n",
    "'beatles.wav',\n",
    "'beat.wav',\n",
    "'bigband.wav',\n",
    "'birdland.wav',\n",
    "'blues.wav',\n",
    "'bmarsalis.wav',\n",
    "'brahms.wav',\n",
    "'canonaki.wav',\n",
    "'caravan.wav',\n",
    "'chaka.wav',\n",
    "'classical1.wav',\n",
    "'classical2.wav',\n",
    "'classical.wav',\n",
    "'copland2.wav',\n",
    "'copland.wav',\n",
    "'corea1.wav',\n",
    "'corea.wav',\n",
    "'cure.wav',\n",
    "'debussy.wav',\n",
    "'deedee1.wav',\n",
    "'deedee.wav',\n",
    "'duke.wav',\n",
    "'echoes.wav',\n",
    "'eguitar.wav',\n",
    "'georose.wav',\n",
    "'gismonti.wav',\n",
    "'glass1.wav',\n",
    "'glass.wav',\n",
    "'gravity2.wav',\n",
    "'gravity.wav',\n",
    "'guitar.wav',\n",
    "'hendrix.wav',\n",
    "'ipanema.wav',\n",
    "'jazz1.wav',\n",
    "'jazz.wav',\n",
    "'led.wav',\n",
    "'loreena.wav',\n",
    "'madradeus.wav',\n",
    "'magkas.wav',\n",
    "'march.wav',\n",
    "'marlene.wav',\n",
    "'mingus1.wav',\n",
    "'mingus.wav',\n",
    "'misirlou.wav',\n",
    "'moanin.wav',\n",
    "'narch.wav',\n",
    "'ncherry.wav',\n",
    "'nearhou.wav',\n",
    "'opera1.wav',\n",
    "'opera.wav',\n",
    "'pop.wav',\n",
    "'prodigy.wav',\n",
    "'redhot.wav',\n",
    "'rock2.wav',\n",
    "'rock.wav',\n",
    "'russo.wav',\n",
    "'tony.wav',\n",
    "'u2.wav',\n",
    "'unpoco.wav',\n",
    "'vlobos.wav',\n",
    "'winds.wav']\n",
    "\n"
   ]
  },
  {
   "cell_type": "code",
   "execution_count": 9,
   "metadata": {},
   "outputs": [],
   "source": [
    "speech = ['acomic2.wav',\n",
    "'acomic.wav',\n",
    "'allison.wav',\n",
    "'amal.wav',\n",
    "'austria.wav',\n",
    "'bathroom1.wav',\n",
    "'chant.wav',\n",
    "'charles.wav',\n",
    "'china.wav',\n",
    "'comedy1.wav',\n",
    "'comedy.wav',\n",
    "'conversion.wav',\n",
    "'danie1.wav',\n",
    "'danie.wav',\n",
    "'dialogue1.wav',\n",
    "'dialogue2.wav',\n",
    "'dialogue.wav',\n",
    "'diamond.wav',\n",
    "'ellhnika.wav',\n",
    "'emil.wav',\n",
    "'female.wav',\n",
    "'fem_rock.wav',\n",
    "'fire.wav',\n",
    "'geography1.wav',\n",
    "'geography.wav',\n",
    "'georg.wav',\n",
    "'god.wav',\n",
    "'greek1.wav',\n",
    "'greek.wav',\n",
    "'india.wav',\n",
    "'jony.wav',\n",
    "'jvoice.wav',\n",
    "'kedar.wav',\n",
    "'kid.wav',\n",
    "'lena.wav',\n",
    "'male.wav',\n",
    "'my_voice.wav',\n",
    "'nether.wav',\n",
    "'news1.wav',\n",
    "'news2.wav',\n",
    "'nj105a.wav',\n",
    "'nj105.wav',\n",
    "'oneday.wav',\n",
    "'psychic.wav',\n",
    "'pulp1.wav',\n",
    "'pulp2.wav',\n",
    "'pulp.wav',\n",
    "'relation.wav',\n",
    "'serbian.wav',\n",
    "'shannon.wav',\n",
    "'sleep.wav',\n",
    "'smoke1.wav',\n",
    "'smoking.wav',\n",
    "'stupid.wav',\n",
    "'teachers1.wav',\n",
    "'teachers2.wav',\n",
    "'teachers.wav',\n",
    "'thlui.wav',\n",
    "'undergrad.wav',\n",
    "'vegetables1.wav',\n",
    "'vegetables2.wav',\n",
    "'vegetables.wav',\n",
    "'voices.wav',\n",
    "'voice.wav']\n"
   ]
  },
  {
   "cell_type": "code",
   "execution_count": null,
   "metadata": {},
   "outputs": [],
   "source": []
  },
  {
   "cell_type": "code",
   "execution_count": 10,
   "metadata": {
    "colab": {
     "autoexec": {
      "startup": false,
      "wait_interval": 0
     }
    },
    "colab_type": "code",
    "id": "4RNCoD0ps4cY"
   },
   "outputs": [
    {
     "name": "stderr",
     "output_type": "stream",
     "text": [
      "/home/betz/anaconda3/lib/python3.6/site-packages/ipykernel_launcher.py:62: DeprecationWarning: The binary mode of fromstring is deprecated, as it behaves surprisingly on unicode inputs. Use frombuffer instead\n"
     ]
    }
   ],
   "source": [
    "sdir = 'data/speech_wav/'\n",
    "mdir = 'data/music_wav/'\n",
    "\n",
    "speech = [f for f in speech] \n",
    "music  = [f for f in music]\n",
    "s_audio = [sound(sdir+s).raw_audio for s in speech]\n",
    "m_audio = [sound(mdir+s).raw_audio for s in music]\n",
    "s_audio1 = break_down_track(s_audio)\n",
    "m_audio1 = break_down_track(m_audio)\n",
    "sm_audio1 = [s+m for s,m in zip(s_audio1,m_audio1)]\n",
    "\n",
    "# Doesnt work\n",
    "#s_audio = [s_audio[i:i+(len(a)//2)] for a in s_audio for i in range(0,len(a),(len(a)//2))]\n",
    "#m_audio = [m_audio[i:i+(len(a)//2)] for a in m_audio for i in range(0,len(a),(len(a)//2))]\n",
    "#sm_audio = [sm_audio[i:i+(len(a)//2)] for a in sm_audio for i in range(0,len(a),(len(a)//2))]\n"
   ]
  },
  {
   "cell_type": "code",
   "execution_count": 398,
   "metadata": {},
   "outputs": [
    {
     "data": {
      "text/plain": [
       "[<matplotlib.lines.Line2D at 0x7f506604ea58>]"
      ]
     },
     "execution_count": 398,
     "metadata": {},
     "output_type": "execute_result"
    },
    {
     "data": {
      "image/png": "[encoded data removed]",
      "text/plain": [
       "<matplotlib.figure.Figure at 0x7f50661e8240>"
      ]
     },
     "metadata": {},
     "output_type": "display_data"
    }
   ],
   "source": [
    "plt.plot(m_audio1[3])"
   ]
  },
  {
   "cell_type": "code",
   "execution_count": 305,
   "metadata": {
    "colab": {
     "autoexec": {
      "startup": false,
      "wait_interval": 0
     },
     "base_uri": "https://localhost:8080/",
     "height": 86
    },
    "colab_type": "code",
    "executionInfo": {
     "elapsed": 1272,
     "status": "ok",
     "timestamp": 1524307420160,
     "user": {
      "displayName": "Claude Betz",
      "photoUrl": "https://lh3.googleusercontent.com/a/default-user=s128",
      "userId": "113888807371476882865"
     },
     "user_tz": -120
    },
    "id": "VS8NIPMPUAMw",
    "outputId": "13a9ff9e-17a7-4ec8-80b5-b09ae2719840"
   },
   "outputs": [
    {
     "name": "stdout",
     "output_type": "stream",
     "text": [
      "[ 914 1007  910 ... 2133 1529  916]\n"
     ]
    }
   ],
   "source": [
    "print(s_audio[1])"
   ]
  },
  {
   "cell_type": "code",
   "execution_count": 306,
   "metadata": {},
   "outputs": [],
   "source": [
    "#rms = rms(s_audio[1])\n",
    "ple = ple(s_audio[1])\n",
    "zcr = zcr(s_audio[1])\n",
    "srf = srf(s_audio[1])"
   ]
  },
  {
   "cell_type": "markdown",
   "metadata": {
    "colab_type": "text",
    "id": "Pyv_fe49yh3w"
   },
   "source": [
    "## Feature Extraction\n",
    "### Low level feature extraction"
   ]
  },
  {
   "cell_type": "code",
   "execution_count": 11,
   "metadata": {
    "colab": {
     "autoexec": {
      "startup": false,
      "wait_interval": 0
     },
     "base_uri": "https://localhost:8080/",
     "height": 141
    },
    "colab_type": "code",
    "executionInfo": {
     "elapsed": 1164,
     "status": "ok",
     "timestamp": 1524308561364,
     "user": {
      "displayName": "Claude Betz",
      "photoUrl": "https://lh3.googleusercontent.com/a/default-user=s128",
      "userId": "113888807371476882865"
     },
     "user_tz": -120
    },
    "id": "E7OuZtEWs1hy",
    "outputId": "5768c75e-c3d3-4217-9c1f-7b0263d9536a"
   },
   "outputs": [],
   "source": [
    "\"\"\"lowlevel feature vector speech\"\"\"\n",
    "s_rms = [[rms(a)] for a in s_audio1]\n",
    "s_ple = [[ple(a)] for a in s_audio1]\n",
    "s_zcr = [[zcr(a)] for a in s_audio1]\n",
    "s_srf = [[srf(a)] for a in s_audio1]\n",
    "s_lowlevel = np.concatenate((s_rms,s_ple,s_zcr,s_srf),axis=1)"
   ]
  },
  {
   "cell_type": "code",
   "execution_count": 402,
   "metadata": {},
   "outputs": [
    {
     "data": {
      "text/plain": [
       "array([9.27910847e+04, 5.57522124e-01, 6.78685950e-04, 2.26400000e+05])"
      ]
     },
     "execution_count": 402,
     "metadata": {},
     "output_type": "execute_result"
    }
   ],
   "source": [
    "s_lowlevel[2]"
   ]
  },
  {
   "cell_type": "code",
   "execution_count": 12,
   "metadata": {
    "colab": {
     "autoexec": {
      "startup": false,
      "wait_interval": 0
     },
     "base_uri": "https://localhost:8080/",
     "height": 124
    },
    "colab_type": "code",
    "executionInfo": {
     "elapsed": 906,
     "status": "ok",
     "timestamp": 1524308562478,
     "user": {
      "displayName": "Claude Betz",
      "photoUrl": "https://lh3.googleusercontent.com/a/default-user=s128",
      "userId": "113888807371476882865"
     },
     "user_tz": -120
    },
    "id": "KiDSO2_chQZW",
    "outputId": "a3628aa9-53af-4f1e-e2de-0ccdc8856145"
   },
   "outputs": [],
   "source": [
    "\"\"\"lowlevel feature vector music\"\"\"\n",
    "m_rms = [[rms(a)] for a in m_audio1]\n",
    "m_ple = [[ple(a)] for a in m_audio1]\n",
    "m_zcr = [[zcr(a)] for a in m_audio1]\n",
    "m_srf = [[srf(a)] for a in m_audio1]\n",
    "m_lowlevel = np.concatenate((m_rms,m_ple,m_zcr,m_srf),axis=1)\n"
   ]
  },
  {
   "cell_type": "code",
   "execution_count": 401,
   "metadata": {},
   "outputs": [
    {
     "data": {
      "text/plain": [
       "array([1.28630882e+05, 6.30530973e-01, 2.49454990e-03, 1.06600000e+05])"
      ]
     },
     "execution_count": 401,
     "metadata": {},
     "output_type": "execute_result"
    }
   ],
   "source": [
    "m_lowlevel[2]"
   ]
  },
  {
   "cell_type": "code",
   "execution_count": 13,
   "metadata": {
    "colab": {
     "autoexec": {
      "startup": false,
      "wait_interval": 0
     },
     "base_uri": "https://localhost:8080/",
     "height": 124
    },
    "colab_type": "code",
    "executionInfo": {
     "elapsed": 920,
     "status": "ok",
     "timestamp": 1524308563872,
     "user": {
      "displayName": "Claude Betz",
      "photoUrl": "https://lh3.googleusercontent.com/a/default-user=s128",
      "userId": "113888807371476882865"
     },
     "user_tz": -120
    },
    "id": "fCCZv3DAj2Wa",
    "outputId": "955e7125-3c8d-4a59-bb45-00fdfb2daa69"
   },
   "outputs": [],
   "source": [
    "\"\"\"lowlevel feature vector speech_music\"\"\"\n",
    "sm_rms = [[rms(a)] for a in sm_audio1]\n",
    "sm_ple = [[ple(a)] for a in sm_audio1]\n",
    "sm_zcr = [[zcr(a)] for a in sm_audio1]\n",
    "sm_srf = [[srf(a)] for a in sm_audio1]\n",
    "sm_lowlevel = np.concatenate((sm_rms,sm_ple,sm_zcr,sm_srf),axis=1)"
   ]
  },
  {
   "cell_type": "code",
   "execution_count": 261,
   "metadata": {},
   "outputs": [
    {
     "data": {
      "text/plain": [
       "array([6.49368309e+05, 6.26106195e-01, 2.07340213e-02, 1.04000000e+05])"
      ]
     },
     "execution_count": 261,
     "metadata": {},
     "output_type": "execute_result"
    }
   ],
   "source": [
    "s_lowlevel[10]"
   ]
  },
  {
   "cell_type": "code",
   "execution_count": null,
   "metadata": {},
   "outputs": [],
   "source": []
  },
  {
   "cell_type": "markdown",
   "metadata": {},
   "source": []
  },
  {
   "cell_type": "markdown",
   "metadata": {
    "colab_type": "text",
    "id": "-YRzULd8ywvc"
   },
   "source": [
    "### MCFF feature extraction"
   ]
  },
  {
   "cell_type": "code",
   "execution_count": 14,
   "metadata": {
    "colab": {
     "autoexec": {
      "startup": false,
      "wait_interval": 0
     }
    },
    "colab_type": "code",
    "id": "FkxvFgi7y7Hu"
   },
   "outputs": [],
   "source": [
    "s_mfcc = np.array([mfcc_features(a) for a in s_audio1]) # speech\n",
    "m_mfcc = np.array([mfcc_features(a) for a in m_audio1]) # audio \n",
    "sm_mfcc = np.array([mfcc_features(a) for a in sm_audio1]) # speech and audio"
   ]
  },
  {
   "cell_type": "markdown",
   "metadata": {
    "colab_type": "text",
    "id": "jDDPFgaB0Jwg"
   },
   "source": [
    "### Combining Low Level and MFCC *features*"
   ]
  },
  {
   "cell_type": "code",
   "execution_count": 15,
   "metadata": {
    "colab": {
     "autoexec": {
      "startup": false,
      "wait_interval": 0
     }
    },
    "colab_type": "code",
    "id": "Hdur3AKK0Po0"
   },
   "outputs": [],
   "source": [
    "s_combined  = np.concatenate((s_lowlevel,s_mfcc),axis=1)\n",
    "m_combined  = np.concatenate((m_lowlevel,m_mfcc),axis=1)"
   ]
  },
  {
   "cell_type": "code",
   "execution_count": null,
   "metadata": {
    "colab": {
     "autoexec": {
      "startup": false,
      "wait_interval": 0
     }
    },
    "colab_type": "code",
    "id": "7i7O_jNg0eMo"
   },
   "outputs": [],
   "source": [
    "sm_combined = np.concatenate((sm_lowlevel,sm_mfcc),axis=1)"
   ]
  },
  {
   "cell_type": "markdown",
   "metadata": {
    "colab_type": "text",
    "id": "aWC2ADn4yV7y"
   },
   "source": [
    "## K-Means\n",
    "### Relevant Imports"
   ]
  },
  {
   "cell_type": "code",
   "execution_count": 16,
   "metadata": {
    "colab": {
     "autoexec": {
      "startup": false,
      "wait_interval": 0
     }
    },
    "colab_type": "code",
    "id": "L-uRgbHFy1V0"
   },
   "outputs": [],
   "source": [
    "import numpy as np\n",
    "import pandas as pd\n",
    "\n",
    "import sklearn\n",
    "from sklearn.cluster import KMeans\n",
    "from mpl_toolkits.mplot3d import Axes3D\n",
    "from sklearn.preprocessing import scale\n",
    "\n",
    "import sklearn.metrics as m\n",
    "from sklearn import datasets\n",
    "from sklearn.metrics import confusion_matrix,classification_report\n",
    "\n",
    "from mpl_toolkits.mplot3d import Axes3D"
   ]
  },
  {
   "cell_type": "code",
   "execution_count": 17,
   "metadata": {
    "colab": {
     "autoexec": {
      "startup": false,
      "wait_interval": 0
     }
    },
    "colab_type": "code",
    "id": "W3u1Onfqel-s"
   },
   "outputs": [],
   "source": [
    "%matplotlib inline"
   ]
  },
  {
   "cell_type": "markdown",
   "metadata": {
    "colab_type": "text",
    "id": "3cOLwplXu6Wy"
   },
   "source": [
    "### low level feature clustering"
   ]
  },
  {
   "cell_type": "code",
   "execution_count": 18,
   "metadata": {
    "colab": {
     "autoexec": {
      "startup": false,
      "wait_interval": 0
     }
    },
    "colab_type": "code",
    "id": "GApuZeBX18_m"
   },
   "outputs": [],
   "source": [
    "#X_ll = np.vstack((s_lowlevel,m_lowlevel,sm_lowlevel))\n",
    "#y_ll = np.array([0]*len(s_lowlevel) + [1]*len(m_lowlevel) + [2]*len(sm_lowlevel))\n",
    "X_ll = np.vstack((s_lowlevel,m_lowlevel))\n",
    "y_ll = np.array([0]*len(s_lowlevel) + [1]*len(m_lowlevel))\n"
   ]
  },
  {
   "cell_type": "code",
   "execution_count": 409,
   "metadata": {},
   "outputs": [
    {
     "data": {
      "text/plain": [
       "array([[1.30293337e+05, 6.76991150e-01, 2.80467423e-02, 1.44160000e+06],\n",
       "       [9.92654621e+04, 5.44247788e-01, 1.46328199e-03, 5.69000000e+05],\n",
       "       [9.27910847e+04, 5.57522124e-01, 6.78685950e-04, 2.26400000e+05],\n",
       "       ...,\n",
       "       [1.98401901e+05, 6.28318584e-01, 6.70075655e-04, 1.49400000e+05],\n",
       "       [2.35173977e+04, 4.73451327e-01, 4.28425076e-04, 1.06000000e+04],\n",
       "       [2.87975298e+04, 4.44690265e-01, 5.15374686e-04, 4.86000000e+04]])"
      ]
     },
     "execution_count": 409,
     "metadata": {},
     "output_type": "execute_result"
    }
   ],
   "source": [
    "X_ll"
   ]
  },
  {
   "cell_type": "code",
   "execution_count": 410,
   "metadata": {
    "colab": {
     "autoexec": {
      "startup": false,
      "wait_interval": 0
     }
    },
    "colab_type": "code",
    "id": "leoCaiAMvOga"
   },
   "outputs": [],
   "source": [
    "km_ll = KMeans(n_clusters=2)\n",
    "labels_ll = km_ll.fit_predict(X_ll)"
   ]
  },
  {
   "cell_type": "code",
   "execution_count": 411,
   "metadata": {
    "colab": {
     "autoexec": {
      "startup": false,
      "wait_interval": 0
     },
     "base_uri": "https://localhost:8080/",
     "height": 34
    },
    "colab_type": "code",
    "executionInfo": {
     "elapsed": 874,
     "status": "ok",
     "timestamp": 1524308571036,
     "user": {
      "displayName": "Claude Betz",
      "photoUrl": "https://lh3.googleusercontent.com/a/default-user=s128",
      "userId": "113888807371476882865"
     },
     "user_tz": -120
    },
    "id": "nHcNHp9I1w9g",
    "outputId": "55c76096-0bae-4f6f-e0f1-a057bdd983de"
   },
   "outputs": [
    {
     "data": {
      "text/plain": [
       "array([0, 0, 0, 0, 0, 0, 0, 0, 0, 0, 0, 0, 0, 0, 0, 0, 0, 0, 0, 0, 0, 0,\n",
       "       0, 0, 0, 0, 0, 0, 0, 0, 0, 0, 0, 0, 0, 0, 0, 0, 0, 0, 0, 0, 0, 0,\n",
       "       0, 0, 0, 0, 0, 0, 0, 0, 0, 0, 0, 0, 0, 0, 0, 0, 0, 0, 0, 0, 0, 0,\n",
       "       0, 0, 0, 0, 0, 0, 0, 0, 0, 0, 0, 0, 0, 0, 0, 0, 0, 0, 0, 0, 0, 0,\n",
       "       0, 0, 0, 0, 0, 0, 0, 0, 0, 0, 0, 0, 0, 0, 0, 0, 0, 0, 0, 0, 0, 0,\n",
       "       0, 0, 0, 0, 0, 0, 0, 0, 0, 0, 0, 0, 0, 0, 0, 0, 0, 0, 0, 0, 0, 0,\n",
       "       0, 0, 0, 0, 0, 0, 0, 0, 0, 0, 0, 0, 0, 0, 0, 0, 0, 0, 0, 0, 0, 0,\n",
       "       0, 0, 0, 0, 0, 0, 0, 0, 0, 0, 0, 0, 0, 0, 0, 0, 0, 0, 0, 0, 0, 0,\n",
       "       0, 0, 0, 0, 0, 0, 0, 0, 0, 0, 0, 0, 0, 0, 0, 0, 0, 0, 0, 0, 0, 0,\n",
       "       0, 0, 0, 0, 0, 0, 0, 0, 0, 0, 0, 0, 0, 0, 0, 0, 0, 0, 0, 0, 0, 0,\n",
       "       0, 0, 0, 0, 0, 0, 0, 0, 0, 0, 0, 0, 0, 0, 0, 0, 0, 0, 0, 0, 0, 0,\n",
       "       0, 0, 0, 0, 0, 0, 0, 0, 0, 0, 0, 0, 0, 0, 0, 0, 0, 0, 0, 0, 0, 0,\n",
       "       0, 0, 0, 0, 0, 0, 0, 0, 0, 0, 0, 0, 0, 0, 0, 0, 0, 0, 0, 0, 0, 0,\n",
       "       0, 0, 0, 0, 0, 0, 0, 0, 0, 0, 0, 0, 0, 0, 0, 0, 0, 0, 0, 0, 0, 0,\n",
       "       0, 0, 0, 0, 0, 0, 0, 0, 0, 0, 0, 0, 0, 0, 0, 0, 0, 0, 0, 0, 0, 0,\n",
       "       0, 0, 0, 0, 0, 0, 0, 0, 0, 0, 0, 0, 0, 0, 0, 0, 0, 0, 0, 0, 0, 0,\n",
       "       0, 0, 0, 0, 0, 0, 0, 0, 0, 0, 0, 0, 0, 0, 0, 0, 0, 0, 0, 0, 0, 0,\n",
       "       0, 0, 0, 0, 0, 0, 0, 0, 0, 0, 1, 1, 1, 1, 1, 1, 1, 1, 1, 1, 1, 1,\n",
       "       1, 1, 1, 1, 1, 1, 1, 1, 1, 1, 1, 1, 1, 1, 1, 1, 1, 1, 1, 1, 1, 1,\n",
       "       1, 1, 1, 1, 1, 1, 1, 1, 1, 1, 1, 1, 1, 1, 1, 1, 1, 1, 1, 1, 1, 1,\n",
       "       1, 1, 1, 1, 1, 1, 1, 1, 1, 1, 1, 1, 1, 1, 1, 1, 1, 1, 1, 1, 1, 1,\n",
       "       1, 1, 1, 1, 1, 1, 1, 1, 1, 1, 1, 1, 1, 1, 1, 1, 1, 1, 1, 1, 1, 1,\n",
       "       1, 1, 1, 1, 1, 1, 1, 1, 1, 1, 1, 1, 1, 1, 1, 1, 1, 1, 1, 1, 1, 1,\n",
       "       1, 1, 1, 1, 1, 1, 1, 1, 1, 1, 1, 1, 1, 1, 1, 1, 1, 1, 1, 1, 1, 1,\n",
       "       1, 1, 1, 1, 1, 1, 1, 1, 1, 1, 1, 1, 1, 1, 1, 1, 1, 1, 1, 1, 1, 1,\n",
       "       1, 1, 1, 1, 1, 1, 1, 1, 1, 1, 1, 1, 1, 1, 1, 1, 1, 1, 1, 1, 1, 1,\n",
       "       1, 1, 1, 1, 1, 1, 1, 1, 1, 1, 1, 1, 1, 1, 1, 1, 1, 1, 1, 1, 1, 1,\n",
       "       1, 1, 1, 1, 1, 1, 1, 1, 1, 1, 1, 1, 1, 1, 1, 1, 1, 1, 1, 1, 1, 1,\n",
       "       1, 1, 1, 1, 1, 1, 1, 1, 1, 1, 1, 1, 1, 1, 1, 1, 1, 1, 1, 1, 1, 1,\n",
       "       1, 1, 1, 1, 1, 1, 1, 1, 1, 1, 1, 1, 1, 1, 1, 1, 1, 1, 1, 1, 1, 1,\n",
       "       1, 1, 1, 1, 1, 1, 1, 1, 1, 1, 1, 1, 1, 1, 1, 1, 1, 1, 1, 1, 1, 1,\n",
       "       1, 1, 1, 1, 1, 1, 1, 1, 1, 1, 1, 1, 1, 1, 1, 1, 1, 1, 1, 1, 1, 1,\n",
       "       1, 1, 1, 1, 1, 1, 1, 1, 1, 1, 1, 1, 1, 1, 1, 1, 1, 1, 1, 1, 1, 1,\n",
       "       1, 1, 1, 1, 1, 1, 1, 1, 1, 1, 1, 1, 1, 1, 1, 1, 1, 1, 1, 1, 1, 1,\n",
       "       1, 1, 1, 1, 1, 1, 1, 1, 1, 1, 1, 1, 1, 1, 1, 1, 1, 1, 1, 1])"
      ]
     },
     "execution_count": 411,
     "metadata": {},
     "output_type": "execute_result"
    }
   ],
   "source": [
    "y_ll"
   ]
  },
  {
   "cell_type": "code",
   "execution_count": 412,
   "metadata": {
    "colab": {
     "autoexec": {
      "startup": false,
      "wait_interval": 0
     },
     "base_uri": "https://localhost:8080/",
     "height": 34
    },
    "colab_type": "code",
    "executionInfo": {
     "elapsed": 1180,
     "status": "ok",
     "timestamp": 1524308572562,
     "user": {
      "displayName": "Claude Betz",
      "photoUrl": "https://lh3.googleusercontent.com/a/default-user=s128",
      "userId": "113888807371476882865"
     },
     "user_tz": -120
    },
    "id": "H3OX_SAW1xOc",
    "outputId": "ff6318d9-e40f-4f95-815c-217e8cf3aaac"
   },
   "outputs": [
    {
     "data": {
      "text/plain": [
       "array([0, 0, 0, 0, 0, 0, 0, 0, 0, 0, 0, 0, 0, 0, 0, 0, 0, 0, 0, 0, 0, 0,\n",
       "       0, 0, 1, 0, 0, 0, 0, 0, 0, 0, 0, 0, 0, 0, 0, 0, 0, 0, 0, 0, 0, 0,\n",
       "       0, 0, 0, 0, 1, 1, 1, 1, 1, 0, 0, 0, 0, 1, 0, 0, 0, 1, 1, 1, 1, 1,\n",
       "       0, 0, 0, 0, 0, 0, 0, 1, 0, 0, 0, 0, 0, 0, 0, 0, 0, 1, 0, 0, 0, 0,\n",
       "       0, 0, 1, 0, 0, 0, 0, 0, 0, 0, 0, 0, 0, 0, 0, 0, 0, 0, 0, 0, 0, 0,\n",
       "       0, 0, 0, 0, 0, 0, 0, 0, 0, 0, 0, 0, 0, 0, 0, 0, 0, 0, 0, 0, 0, 0,\n",
       "       0, 0, 0, 0, 0, 0, 0, 0, 0, 0, 0, 0, 0, 0, 0, 0, 0, 0, 1, 0, 0, 0,\n",
       "       0, 0, 0, 0, 0, 0, 0, 0, 0, 0, 0, 0, 0, 0, 0, 0, 0, 0, 0, 0, 0, 0,\n",
       "       0, 0, 0, 0, 0, 0, 0, 0, 0, 0, 0, 0, 0, 0, 0, 0, 0, 0, 0, 0, 0, 0,\n",
       "       0, 0, 0, 0, 0, 0, 1, 1, 1, 1, 1, 1, 0, 0, 0, 0, 0, 0, 0, 0, 0, 0,\n",
       "       0, 0, 0, 0, 0, 0, 0, 0, 0, 0, 0, 0, 0, 0, 0, 0, 0, 0, 0, 0, 0, 0,\n",
       "       0, 0, 0, 0, 0, 0, 0, 0, 0, 0, 0, 0, 0, 0, 0, 0, 0, 0, 0, 0, 0, 0,\n",
       "       0, 0, 0, 0, 0, 0, 0, 0, 0, 0, 0, 0, 0, 0, 0, 0, 0, 0, 0, 0, 0, 0,\n",
       "       0, 0, 0, 0, 0, 0, 0, 0, 0, 0, 0, 0, 0, 0, 0, 0, 0, 0, 0, 0, 0, 0,\n",
       "       0, 0, 0, 0, 0, 0, 0, 0, 0, 0, 0, 0, 0, 0, 0, 0, 0, 0, 0, 0, 0, 0,\n",
       "       1, 1, 1, 1, 1, 0, 0, 0, 0, 0, 0, 0, 0, 0, 1, 0, 0, 0, 0, 0, 0, 0,\n",
       "       0, 0, 0, 0, 0, 0, 0, 0, 0, 0, 0, 0, 0, 0, 0, 0, 0, 0, 0, 0, 0, 0,\n",
       "       0, 0, 0, 0, 0, 0, 0, 0, 0, 0, 0, 0, 0, 0, 0, 0, 0, 0, 0, 0, 0, 0,\n",
       "       0, 0, 0, 0, 0, 0, 0, 0, 0, 0, 0, 0, 0, 0, 0, 0, 0, 0, 0, 0, 0, 0,\n",
       "       0, 0, 0, 0, 0, 0, 0, 1, 0, 0, 0, 0, 0, 0, 0, 0, 0, 0, 0, 0, 0, 0,\n",
       "       0, 0, 0, 0, 0, 0, 0, 0, 0, 0, 0, 0, 0, 0, 0, 0, 0, 1, 1, 1, 1, 0,\n",
       "       0, 0, 0, 0, 0, 0, 0, 0, 0, 0, 0, 0, 0, 0, 0, 0, 0, 0, 0, 0, 0, 0,\n",
       "       0, 0, 0, 0, 0, 0, 0, 0, 0, 0, 0, 0, 0, 0, 0, 0, 0, 0, 0, 0, 0, 0,\n",
       "       0, 0, 0, 0, 0, 0, 0, 0, 0, 0, 0, 0, 0, 0, 0, 0, 0, 0, 0, 0, 0, 0,\n",
       "       0, 0, 0, 0, 0, 0, 0, 0, 0, 0, 0, 0, 0, 0, 0, 0, 0, 0, 0, 0, 0, 0,\n",
       "       0, 0, 0, 0, 0, 0, 0, 0, 0, 0, 0, 0, 0, 0, 0, 0, 0, 0, 0, 0, 0, 0,\n",
       "       0, 0, 1, 0, 0, 0, 0, 0, 0, 0, 0, 0, 0, 0, 0, 0, 0, 0, 0, 0, 0, 0,\n",
       "       0, 0, 0, 0, 0, 0, 0, 0, 0, 0, 0, 0, 0, 0, 0, 0, 0, 0, 0, 0, 0, 0,\n",
       "       0, 0, 0, 0, 0, 0, 0, 0, 0, 0, 0, 0, 0, 0, 1, 0, 0, 0, 0, 0, 0, 0,\n",
       "       0, 0, 0, 0, 0, 0, 0, 0, 0, 0, 0, 0, 0, 0, 0, 0, 0, 0, 0, 0, 0, 0,\n",
       "       0, 0, 0, 0, 0, 0, 0, 0, 0, 0, 0, 0, 0, 0, 0, 0, 0, 0, 0, 0, 0, 0,\n",
       "       0, 0, 0, 0, 0, 0, 0, 0, 0, 0, 0, 0, 0, 0, 1, 1, 0, 0, 0, 0, 0, 0,\n",
       "       0, 0, 0, 0, 0, 0, 0, 0, 0, 0, 0, 0, 0, 0, 0, 0, 0, 0, 0, 0, 0, 0,\n",
       "       0, 0, 0, 0, 0, 0, 0, 0, 0, 0, 0, 0, 0, 0, 0, 0, 0, 0, 0, 0, 0, 0,\n",
       "       0, 0, 0, 0, 0, 0, 0, 0, 0, 0, 0, 0, 0, 0, 0, 0, 0, 0, 0, 0],\n",
       "      dtype=int32)"
      ]
     },
     "execution_count": 412,
     "metadata": {},
     "output_type": "execute_result"
    }
   ],
   "source": [
    "labels_ll"
   ]
  },
  {
   "cell_type": "code",
   "execution_count": 413,
   "metadata": {
    "colab": {
     "autoexec": {
      "startup": false,
      "wait_interval": 0
     },
     "base_uri": "https://localhost:8080/",
     "height": 69
    },
    "colab_type": "code",
    "executionInfo": {
     "elapsed": 1046,
     "status": "ok",
     "timestamp": 1524307624424,
     "user": {
      "displayName": "Claude Betz",
      "photoUrl": "https://lh3.googleusercontent.com/a/default-user=s128",
      "userId": "113888807371476882865"
     },
     "user_tz": -120
    },
    "id": "5574nqr_EGWO",
    "outputId": "f6cac798-a5ac-491e-8bc0-b2de0a2a6118"
   },
   "outputs": [
    {
     "data": {
      "text/plain": [
       "KMeans(algorithm='auto', copy_x=True, init='k-means++', max_iter=300,\n",
       "    n_clusters=2, n_init=10, n_jobs=1, precompute_distances='auto',\n",
       "    random_state=None, tol=0.0001, verbose=0)"
      ]
     },
     "execution_count": 413,
     "metadata": {},
     "output_type": "execute_result"
    }
   ],
   "source": [
    "km_ll"
   ]
  },
  {
   "cell_type": "markdown",
   "metadata": {
    "colab_type": "text",
    "id": "BVDkvXJfAgJC"
   },
   "source": [
    "#### visualising low level clustering"
   ]
  },
  {
   "cell_type": "code",
   "execution_count": 414,
   "metadata": {
    "colab": {
     "autoexec": {
      "startup": false,
      "wait_interval": 0
     }
    },
    "colab_type": "code",
    "id": "SYziO89r5LJO"
   },
   "outputs": [],
   "source": [
    "df = pd.DataFrame(X_ll)\n",
    "y = pd.DataFrame(y_ll)\n",
    "df.columns = ['rms','ple','zcr','srf']\n",
    "y.columns = ['Target']"
   ]
  },
  {
   "cell_type": "code",
   "execution_count": 415,
   "metadata": {
    "colab": {
     "autoexec": {
      "startup": false,
      "wait_interval": 0
     },
     "base_uri": "https://localhost:8080/",
     "height": 297
    },
    "colab_type": "code",
    "executionInfo": {
     "elapsed": 2028,
     "status": "ok",
     "timestamp": 1524307127648,
     "user": {
      "displayName": "Claude Betz",
      "photoUrl": "https://lh3.googleusercontent.com/a/default-user=s128",
      "userId": "113888807371476882865"
     },
     "user_tz": -120
    },
    "id": "V7WfdI1S79GS",
    "outputId": "c66fb9cb-b040-4a70-ffc2-c677e26af293"
   },
   "outputs": [
    {
     "data": {
      "text/plain": [
       "Text(0.5,1,'K-Means sound classification')"
      ]
     },
     "execution_count": 415,
     "metadata": {},
     "output_type": "execute_result"
    },
    {
     "data": {
      "image/png": "[encoded data removed]",
      "text/plain": [
       "<matplotlib.figure.Figure at 0x7f5066062cf8>"
      ]
     },
     "metadata": {},
     "output_type": "display_data"
    }
   ],
   "source": [
    "color_theme = np.array(['darkgray','lightsalmon','powderblue'])\n",
    "\n",
    "plt.subplot(1,2,1)\n",
    "plt.scatter(x=df.ple,y=df.zcr, c=color_theme[y_ll], s=50)\n",
    "plt.title(\"true sound classification\")\n",
    "\n",
    "plt.subplot(1,2,2)\n",
    "plt.scatter(x=df.ple,y=df.zcr, c=color_theme[labels_ll], s=50)\n",
    "plt.title(\"K-Means sound classification\")"
   ]
  },
  {
   "cell_type": "code",
   "execution_count": 421,
   "metadata": {
    "colab": {
     "autoexec": {
      "startup": false,
      "wait_interval": 0
     },
     "base_uri": "https://localhost:8080/",
     "height": 156
    },
    "colab_type": "code",
    "executionInfo": {
     "elapsed": 1942,
     "status": "ok",
     "timestamp": 1524307181044,
     "user": {
      "displayName": "Claude Betz",
      "photoUrl": "https://lh3.googleusercontent.com/a/default-user=s128",
      "userId": "113888807371476882865"
     },
     "user_tz": -120
    },
    "id": "ti06ewIoCH36",
    "outputId": "9020fa75-48d1-4a32-e962-000db7eb89cf"
   },
   "outputs": [
    {
     "name": "stdout",
     "output_type": "stream",
     "text": [
      "             precision    recall  f1-score   support\n",
      "\n",
      "          0       0.76      0.07      0.13       384\n",
      "          1       0.51      0.98      0.67       384\n",
      "\n",
      "avg / total       0.63      0.52      0.40       768\n",
      "\n"
     ]
    }
   ],
   "source": [
    "relable = np.choose(km_ll.labels_,[1,0]).astype(np.int64)\n",
    "print (classification_report(y_ll,relable))"
   ]
  },
  {
   "cell_type": "markdown",
   "metadata": {
    "colab_type": "text",
    "id": "tHIzFpGiGqg-"
   },
   "source": [
    "#### 3d visualising"
   ]
  },
  {
   "cell_type": "code",
   "execution_count": 447,
   "metadata": {
    "colab": {
     "autoexec": {
      "startup": false,
      "wait_interval": 0
     },
     "base_uri": "https://localhost:8080/",
     "height": 496
    },
    "colab_type": "code",
    "executionInfo": {
     "elapsed": 1586,
     "status": "ok",
     "timestamp": 1524307131472,
     "user": {
      "displayName": "Claude Betz",
      "photoUrl": "https://lh3.googleusercontent.com/a/default-user=s128",
      "userId": "113888807371476882865"
     },
     "user_tz": -120
    },
    "id": "6ug1NAX9Go7e",
    "outputId": "2aec3e2e-7e06-4d4c-db53-2f7be76565f6"
   },
   "outputs": [
    {
     "data": {
      "text/plain": [
       "Text(0.5,0,'srf')"
      ]
     },
     "execution_count": 447,
     "metadata": {},
     "output_type": "execute_result"
    },
    {
     "data": {
      "image/png": "[encoded data removed]",
      "text/plain": [
       "<matplotlib.figure.Figure at 0x7f5065a02a90>"
      ]
     },
     "metadata": {},
     "output_type": "display_data"
    },
    {
     "data": {
      "image/png": "[encoded data removed]",
      "text/plain": [
       "<matplotlib.figure.Figure at 0x7f50657aa2b0>"
      ]
     },
     "metadata": {},
     "output_type": "display_data"
    }
   ],
   "source": [
    "fig = plt.figure()\n",
    "ax = fig.add_subplot(111, projection='3d')\n",
    "\n",
    "ax.scatter(df.ple,df.zcr,df.srf, c=color_theme[y_ll])\n",
    "ax.set_xlabel('ple')\n",
    "ax.set_ylabel('zcr')\n",
    "ax.set_zlabel('srf')\n",
    "\n",
    "fig2 = plt.figure()\n",
    "ax2 = fig2.add_subplot(111, projection='3d')\n",
    "ax2.scatter(df.ple,df.zcr,df.srf, c=color_theme[relable])\n",
    "ax2.set_xlabel('ple')\n",
    "ax2.set_ylabel('zcr')\n",
    "ax2.set_zlabel('srf')"
   ]
  },
  {
   "cell_type": "markdown",
   "metadata": {
    "colab_type": "text",
    "id": "bQGsk0sL1eBQ"
   },
   "source": [
    "### mfcc feature clustering"
   ]
  },
  {
   "cell_type": "code",
   "execution_count": 19,
   "metadata": {
    "colab": {
     "autoexec": {
      "startup": false,
      "wait_interval": 0
     },
     "base_uri": "https://localhost:8080/",
     "height": 184
    },
    "colab_type": "code",
    "executionInfo": {
     "elapsed": 17442,
     "status": "error",
     "timestamp": 1524319646458,
     "user": {
      "displayName": "Claude Betz",
      "photoUrl": "https://lh3.googleusercontent.com/a/default-user=s128",
      "userId": "113888807371476882865"
     },
     "user_tz": -120
    },
    "id": "WmjQMm-Ou-fW",
    "outputId": "1c19fd65-92b1-4ea0-c200-9ed644cf0455"
   },
   "outputs": [],
   "source": [
    "X_mfcc = np.vstack((s_mfcc,m_mfcc))\n",
    "y_mfcc = np.array([0]*len(s_mfcc) + [1]*len(m_mfcc))"
   ]
  },
  {
   "cell_type": "code",
   "execution_count": 20,
   "metadata": {
    "colab": {
     "autoexec": {
      "startup": false,
      "wait_interval": 0
     }
    },
    "colab_type": "code",
    "id": "rIU3q8W11a2o"
   },
   "outputs": [],
   "source": [
    "km_mfcc = KMeans(n_clusters=2)\n",
    "labels_mfcc = km_mfcc.fit_predict(X_mfcc)"
   ]
  },
  {
   "cell_type": "code",
   "execution_count": 21,
   "metadata": {
    "colab": {
     "autoexec": {
      "startup": false,
      "wait_interval": 0
     },
     "base_uri": "https://localhost:8080/",
     "height": 34
    },
    "colab_type": "code",
    "executionInfo": {
     "elapsed": 1002,
     "status": "ok",
     "timestamp": 1524306566752,
     "user": {
      "displayName": "Claude Betz",
      "photoUrl": "https://lh3.googleusercontent.com/a/default-user=s128",
      "userId": "113888807371476882865"
     },
     "user_tz": -120
    },
    "id": "eBDSApnl2xru",
    "outputId": "6fc1aefa-91fd-437d-8509-26639d829c6f"
   },
   "outputs": [
    {
     "data": {
      "text/plain": [
       "array([0, 0, 0, 0, 0, 0, 0, 0, 0, 0, 0, 0, 0, 0, 0, 0, 0, 0, 0, 0, 0, 0,\n",
       "       0, 0, 0, 0, 0, 0, 0, 0, 0, 0, 0, 0, 0, 0, 0, 0, 0, 0, 0, 0, 0, 0,\n",
       "       0, 0, 0, 0, 0, 0, 0, 0, 0, 0, 0, 0, 0, 0, 0, 0, 0, 0, 0, 0, 0, 0,\n",
       "       0, 0, 0, 0, 0, 0, 0, 0, 0, 0, 0, 0, 0, 0, 0, 0, 0, 0, 0, 0, 0, 0,\n",
       "       0, 0, 0, 0, 0, 0, 0, 0, 0, 0, 0, 0, 0, 0, 0, 0, 0, 0, 0, 0, 0, 0,\n",
       "       0, 0, 0, 0, 0, 0, 0, 0, 0, 0, 0, 0, 0, 0, 0, 0, 0, 0, 0, 0, 0, 0,\n",
       "       0, 0, 0, 0, 0, 0, 0, 0, 0, 0, 0, 0, 0, 0, 0, 0, 0, 0, 0, 0, 0, 0,\n",
       "       0, 0, 0, 0, 0, 0, 0, 0, 0, 0, 0, 0, 0, 0, 0, 0, 0, 0, 0, 0, 0, 0,\n",
       "       0, 0, 0, 0, 0, 0, 0, 0, 0, 0, 0, 0, 0, 0, 0, 0, 0, 0, 0, 0, 0, 0,\n",
       "       0, 0, 0, 0, 0, 0, 0, 0, 0, 0, 0, 0, 0, 0, 0, 0, 0, 0, 0, 0, 0, 0,\n",
       "       0, 0, 0, 0, 0, 0, 0, 0, 0, 0, 0, 0, 0, 0, 0, 0, 0, 0, 0, 0, 0, 0,\n",
       "       0, 0, 0, 0, 0, 0, 0, 0, 0, 0, 0, 0, 0, 0, 0, 0, 0, 0, 0, 0, 0, 0,\n",
       "       0, 0, 0, 0, 0, 0, 0, 0, 0, 0, 0, 0, 0, 0, 0, 0, 0, 0, 0, 0, 0, 0,\n",
       "       0, 0, 0, 0, 0, 0, 0, 0, 0, 0, 0, 0, 0, 0, 0, 0, 0, 0, 0, 0, 0, 0,\n",
       "       0, 0, 0, 0, 0, 0, 0, 0, 0, 0, 0, 0, 0, 0, 0, 0, 0, 0, 0, 0, 0, 0,\n",
       "       0, 0, 0, 0, 0, 0, 0, 0, 0, 0, 0, 0, 0, 0, 0, 0, 0, 0, 0, 0, 0, 0,\n",
       "       0, 0, 0, 0, 0, 0, 0, 0, 0, 0, 0, 0, 0, 0, 0, 0, 0, 0, 0, 0, 0, 0,\n",
       "       0, 0, 0, 0, 0, 0, 0, 0, 0, 0, 1, 1, 1, 1, 1, 1, 1, 1, 1, 1, 1, 1,\n",
       "       1, 1, 1, 1, 1, 1, 1, 1, 1, 1, 1, 1, 1, 1, 1, 1, 1, 1, 1, 1, 1, 1,\n",
       "       1, 1, 1, 1, 1, 1, 1, 1, 1, 1, 1, 1, 1, 1, 1, 1, 1, 1, 1, 1, 1, 1,\n",
       "       1, 1, 1, 1, 1, 1, 1, 1, 1, 1, 1, 1, 1, 1, 1, 1, 1, 1, 1, 1, 1, 1,\n",
       "       1, 1, 1, 1, 1, 1, 1, 1, 1, 1, 1, 1, 1, 1, 1, 1, 1, 1, 1, 1, 1, 1,\n",
       "       1, 1, 1, 1, 1, 1, 1, 1, 1, 1, 1, 1, 1, 1, 1, 1, 1, 1, 1, 1, 1, 1,\n",
       "       1, 1, 1, 1, 1, 1, 1, 1, 1, 1, 1, 1, 1, 1, 1, 1, 1, 1, 1, 1, 1, 1,\n",
       "       1, 1, 1, 1, 1, 1, 1, 1, 1, 1, 1, 1, 1, 1, 1, 1, 1, 1, 1, 1, 1, 1,\n",
       "       1, 1, 1, 1, 1, 1, 1, 1, 1, 1, 1, 1, 1, 1, 1, 1, 1, 1, 1, 1, 1, 1,\n",
       "       1, 1, 1, 1, 1, 1, 1, 1, 1, 1, 1, 1, 1, 1, 1, 1, 1, 1, 1, 1, 1, 1,\n",
       "       1, 1, 1, 1, 1, 1, 1, 1, 1, 1, 1, 1, 1, 1, 1, 1, 1, 1, 1, 1, 1, 1,\n",
       "       1, 1, 1, 1, 1, 1, 1, 1, 1, 1, 1, 1, 1, 1, 1, 1, 1, 1, 1, 1, 1, 1,\n",
       "       1, 1, 1, 1, 1, 1, 1, 1, 1, 1, 1, 1, 1, 1, 1, 1, 1, 1, 1, 1, 1, 1,\n",
       "       1, 1, 1, 1, 1, 1, 1, 1, 1, 1, 1, 1, 1, 1, 1, 1, 1, 1, 1, 1, 1, 1,\n",
       "       1, 1, 1, 1, 1, 1, 1, 1, 1, 1, 1, 1, 1, 1, 1, 1, 1, 1, 1, 1, 1, 1,\n",
       "       1, 1, 1, 1, 1, 1, 1, 1, 1, 1, 1, 1, 1, 1, 1, 1, 1, 1, 1, 1, 1, 1,\n",
       "       1, 1, 1, 1, 1, 1, 1, 1, 1, 1, 1, 1, 1, 1, 1, 1, 1, 1, 1, 1, 1, 1,\n",
       "       1, 1, 1, 1, 1, 1, 1, 1, 1, 1, 1, 1, 1, 1, 1, 1, 1, 1, 1, 1])"
      ]
     },
     "execution_count": 21,
     "metadata": {},
     "output_type": "execute_result"
    }
   ],
   "source": [
    "y_mfcc"
   ]
  },
  {
   "cell_type": "code",
   "execution_count": 22,
   "metadata": {
    "colab": {
     "autoexec": {
      "startup": false,
      "wait_interval": 0
     },
     "base_uri": "https://localhost:8080/",
     "height": 34
    },
    "colab_type": "code",
    "executionInfo": {
     "elapsed": 986,
     "status": "ok",
     "timestamp": 1524306568882,
     "user": {
      "displayName": "Claude Betz",
      "photoUrl": "https://lh3.googleusercontent.com/a/default-user=s128",
      "userId": "113888807371476882865"
     },
     "user_tz": -120
    },
    "id": "EPMMhYZ221jG",
    "outputId": "abd4df51-c3c8-432f-8830-369dce88dfd6"
   },
   "outputs": [
    {
     "data": {
      "text/plain": [
       "array([1, 1, 1, 1, 1, 1, 0, 0, 0, 1, 0, 0, 0, 0, 0, 0, 0, 0, 0, 0, 1, 1,\n",
       "       1, 1, 0, 0, 0, 0, 0, 1, 1, 1, 1, 1, 1, 1, 0, 0, 0, 0, 1, 0, 0, 0,\n",
       "       0, 0, 0, 0, 0, 0, 0, 0, 0, 0, 0, 0, 0, 0, 0, 0, 0, 0, 0, 0, 0, 0,\n",
       "       1, 1, 1, 1, 1, 0, 0, 0, 0, 0, 0, 0, 0, 1, 0, 1, 0, 0, 0, 0, 0, 0,\n",
       "       0, 0, 0, 0, 0, 0, 0, 0, 0, 0, 0, 0, 0, 0, 1, 1, 1, 1, 1, 1, 0, 1,\n",
       "       0, 0, 0, 0, 1, 1, 1, 1, 1, 1, 0, 1, 1, 0, 0, 1, 1, 1, 1, 1, 1, 0,\n",
       "       0, 1, 0, 0, 1, 1, 0, 0, 0, 0, 0, 0, 1, 1, 1, 1, 1, 1, 0, 0, 0, 1,\n",
       "       0, 0, 0, 1, 0, 1, 0, 1, 0, 0, 0, 0, 0, 0, 1, 1, 1, 1, 1, 1, 1, 1,\n",
       "       1, 1, 1, 1, 0, 0, 0, 0, 1, 1, 1, 1, 1, 1, 1, 1, 1, 0, 0, 0, 0, 0,\n",
       "       0, 0, 1, 0, 0, 0, 0, 0, 0, 0, 0, 0, 0, 0, 0, 0, 0, 0, 1, 0, 1, 0,\n",
       "       1, 1, 0, 0, 0, 0, 0, 0, 0, 0, 0, 0, 0, 0, 1, 1, 1, 1, 0, 0, 0, 0,\n",
       "       0, 0, 0, 0, 1, 1, 1, 1, 1, 1, 1, 1, 1, 1, 1, 1, 0, 0, 0, 0, 0, 0,\n",
       "       0, 0, 0, 1, 0, 0, 1, 1, 1, 0, 1, 0, 1, 0, 1, 1, 0, 1, 0, 1, 0, 0,\n",
       "       0, 0, 0, 0, 0, 0, 0, 0, 0, 0, 0, 0, 0, 0, 1, 1, 1, 1, 1, 1, 0, 0,\n",
       "       0, 0, 0, 1, 0, 0, 0, 0, 0, 0, 0, 0, 0, 0, 0, 0, 0, 0, 0, 0, 0, 1,\n",
       "       0, 0, 0, 0, 0, 0, 1, 0, 0, 0, 0, 0, 0, 0, 0, 0, 0, 0, 0, 0, 0, 0,\n",
       "       0, 0, 0, 0, 0, 0, 0, 0, 1, 1, 1, 1, 1, 1, 0, 0, 0, 0, 0, 0, 1, 0,\n",
       "       0, 0, 0, 0, 0, 1, 0, 0, 0, 0, 0, 0, 0, 0, 0, 0, 1, 1, 1, 1, 1, 1,\n",
       "       1, 1, 1, 1, 0, 0, 0, 0, 1, 0, 1, 1, 0, 0, 0, 0, 0, 0, 1, 0, 0, 0,\n",
       "       0, 1, 0, 0, 0, 0, 0, 0, 1, 1, 1, 1, 1, 1, 0, 0, 0, 0, 0, 0, 0, 0,\n",
       "       0, 1, 0, 1, 0, 0, 0, 0, 0, 0, 1, 1, 1, 1, 1, 1, 0, 0, 0, 0, 0, 0,\n",
       "       1, 1, 1, 1, 1, 1, 1, 1, 1, 1, 0, 0, 1, 0, 1, 1, 1, 1, 0, 1, 1, 1,\n",
       "       1, 0, 1, 0, 0, 0, 0, 1, 0, 0, 0, 0, 0, 0, 1, 1, 1, 1, 1, 1, 0, 0,\n",
       "       0, 0, 0, 0, 1, 1, 0, 0, 1, 1, 0, 0, 1, 0, 0, 0, 1, 0, 0, 0, 0, 0,\n",
       "       1, 0, 1, 1, 1, 1, 1, 1, 0, 0, 0, 0, 0, 1, 0, 0, 0, 0, 1, 1, 1, 1,\n",
       "       1, 1, 1, 1, 1, 1, 1, 1, 0, 0, 0, 0, 0, 0, 1, 1, 1, 0, 1, 0, 0, 0,\n",
       "       0, 0, 0, 0, 0, 0, 0, 0, 0, 0, 1, 1, 1, 1, 1, 1, 0, 0, 0, 0, 0, 0,\n",
       "       0, 0, 0, 0, 0, 0, 0, 0, 0, 1, 1, 1, 0, 0, 0, 0, 0, 1, 0, 0, 0, 0,\n",
       "       0, 0, 0, 0, 1, 0, 0, 1, 0, 0, 0, 0, 0, 0, 0, 0, 0, 0, 0, 0, 1, 1,\n",
       "       1, 1, 1, 1, 0, 0, 0, 1, 1, 1, 0, 0, 0, 0, 0, 0, 0, 0, 0, 0, 0, 0,\n",
       "       1, 1, 1, 1, 1, 1, 1, 1, 1, 1, 1, 0, 0, 0, 0, 0, 0, 0, 0, 0, 0, 0,\n",
       "       0, 0, 0, 0, 0, 0, 0, 0, 0, 1, 0, 0, 0, 0, 1, 0, 1, 0, 1, 1, 0, 0,\n",
       "       0, 0, 0, 0, 0, 0, 0, 0, 0, 0, 0, 0, 0, 0, 0, 0, 0, 0, 0, 0, 0, 0,\n",
       "       0, 0, 0, 0, 0, 0, 0, 0, 0, 1, 0, 0, 0, 0, 0, 0, 0, 0, 0, 0, 0, 0,\n",
       "       0, 0, 0, 0, 0, 0, 0, 0, 1, 1, 0, 1, 0, 0, 0, 0, 0, 0, 1, 1],\n",
       "      dtype=int32)"
      ]
     },
     "execution_count": 22,
     "metadata": {},
     "output_type": "execute_result"
    }
   ],
   "source": [
    "labels_mfcc"
   ]
  },
  {
   "cell_type": "markdown",
   "metadata": {
    "colab_type": "text",
    "id": "rxqxH3rxhfga"
   },
   "source": [
    "#### visualising mfcc clustering"
   ]
  },
  {
   "cell_type": "code",
   "execution_count": 57,
   "metadata": {
    "colab": {
     "autoexec": {
      "startup": false,
      "wait_interval": 0
     }
    },
    "colab_type": "code",
    "id": "WL5seM7ihiXQ"
   },
   "outputs": [
    {
     "ename": "NameError",
     "evalue": "name 'X_mcff' is not defined",
     "output_type": "error",
     "traceback": [
      "\u001b[0;31m------------------------------------------------------------------------\u001b[0m",
      "\u001b[0;31mNameError\u001b[0m                              Traceback (most recent call last)",
      "\u001b[0;32m<ipython-input-57-31e03c7a5386>\u001b[0m in \u001b[0;36m<module>\u001b[0;34m()\u001b[0m\n\u001b[0;32m----> 1\u001b[0;31m \u001b[0mdf\u001b[0m \u001b[0;34m=\u001b[0m \u001b[0mpd\u001b[0m\u001b[0;34m.\u001b[0m\u001b[0mDataFrame\u001b[0m\u001b[0;34m(\u001b[0m\u001b[0mX_mcff\u001b[0m\u001b[0;34m)\u001b[0m\u001b[0;34m\u001b[0m\u001b[0m\n\u001b[0m\u001b[1;32m      2\u001b[0m \u001b[0my\u001b[0m \u001b[0;34m=\u001b[0m \u001b[0mpd\u001b[0m\u001b[0;34m.\u001b[0m\u001b[0mDataFrame\u001b[0m\u001b[0;34m(\u001b[0m\u001b[0my_mfcc\u001b[0m\u001b[0;34m)\u001b[0m\u001b[0;34m\u001b[0m\u001b[0m\n\u001b[1;32m      3\u001b[0m \u001b[0mdf\u001b[0m\u001b[0;34m.\u001b[0m\u001b[0mcolumns\u001b[0m \u001b[0;34m=\u001b[0m \u001b[0;34m[\u001b[0m\u001b[0;34m'rms'\u001b[0m\u001b[0;34m,\u001b[0m\u001b[0;34m'ple'\u001b[0m\u001b[0;34m,\u001b[0m\u001b[0;34m'zcr'\u001b[0m\u001b[0;34m,\u001b[0m\u001b[0;34m'srf'\u001b[0m\u001b[0;34m]\u001b[0m\u001b[0;34m\u001b[0m\u001b[0m\n\u001b[1;32m      4\u001b[0m \u001b[0my\u001b[0m\u001b[0;34m.\u001b[0m\u001b[0mcolumns\u001b[0m \u001b[0;34m=\u001b[0m \u001b[0;34m[\u001b[0m\u001b[0;34m'Target'\u001b[0m\u001b[0;34m]\u001b[0m\u001b[0;34m\u001b[0m\u001b[0m\n",
      "\u001b[0;31mNameError\u001b[0m: name 'X_mcff' is not defined"
     ]
    }
   ],
   "source": [
    "df = pd.DataFrame(X_mcff)\n",
    "y = pd.DataFrame(y_mfcc)\n",
    "df.columns = ['rms','ple','zcr','srf']\n",
    "y.columns = ['Target']"
   ]
  },
  {
   "cell_type": "code",
   "execution_count": 58,
   "metadata": {
    "colab": {
     "autoexec": {
      "startup": false,
      "wait_interval": 0
     }
    },
    "colab_type": "code",
    "id": "XHDKltU1hiky"
   },
   "outputs": [
    {
     "data": {
      "text/plain": [
       "Text(0.5,1,'K-Means sound classification')"
      ]
     },
     "execution_count": 58,
     "metadata": {},
     "output_type": "execute_result"
    },
    {
     "data": {
      "image/png": "[encoded data removed]",
      "text/plain": [
       "<matplotlib.figure.Figure at 0x7fa233e266d8>"
      ]
     },
     "metadata": {},
     "output_type": "display_data"
    }
   ],
   "source": [
    "color_theme = np.array(['darkgray','lightsalmon','powderblue'])\n",
    "\n",
    "plt.subplot(1,2,1)\n",
    "plt.scatter(x=df.ple,y=df.zcr, c=color_theme[y_ll], s=50)\n",
    "plt.title(\"true sound classification\")\n",
    "\n",
    "plt.subplot(1,2,2)\n",
    "plt.scatter(x=df.ple,y=df.zcr, c=color_theme[labels_ll], s=50)\n",
    "plt.title(\"K-Means sound classification\")"
   ]
  },
  {
   "cell_type": "code",
   "execution_count": 36,
   "metadata": {
    "colab": {
     "autoexec": {
      "startup": false,
      "wait_interval": 0
     }
    },
    "colab_type": "code",
    "id": "xMlVDiXThuQU"
   },
   "outputs": [
    {
     "ename": "NameError",
     "evalue": "name 'km_mfcc' is not defined",
     "output_type": "error",
     "traceback": [
      "\u001b[0;31m------------------------------------------------------------------------\u001b[0m",
      "\u001b[0;31mNameError\u001b[0m                              Traceback (most recent call last)",
      "\u001b[0;32m<ipython-input-36-3686009f6e01>\u001b[0m in \u001b[0;36m<module>\u001b[0;34m()\u001b[0m\n\u001b[0;32m----> 1\u001b[0;31m \u001b[0mrelable\u001b[0m \u001b[0;34m=\u001b[0m \u001b[0mnp\u001b[0m\u001b[0;34m.\u001b[0m\u001b[0mchoose\u001b[0m\u001b[0;34m(\u001b[0m\u001b[0mkm_mfcc\u001b[0m\u001b[0;34m.\u001b[0m\u001b[0mlabels_\u001b[0m\u001b[0;34m,\u001b[0m\u001b[0;34m[\u001b[0m\u001b[0;36m1\u001b[0m\u001b[0;34m,\u001b[0m\u001b[0;36m0\u001b[0m\u001b[0;34m,\u001b[0m\u001b[0;36m2\u001b[0m\u001b[0;34m]\u001b[0m\u001b[0;34m)\u001b[0m\u001b[0;34m.\u001b[0m\u001b[0mastype\u001b[0m\u001b[0;34m(\u001b[0m\u001b[0mnp\u001b[0m\u001b[0;34m.\u001b[0m\u001b[0mint64\u001b[0m\u001b[0;34m)\u001b[0m\u001b[0;34m\u001b[0m\u001b[0m\n\u001b[0m\u001b[1;32m      2\u001b[0m \u001b[0mprint\u001b[0m \u001b[0;34m(\u001b[0m\u001b[0mclassification_report\u001b[0m\u001b[0;34m(\u001b[0m\u001b[0my_mfcc\u001b[0m\u001b[0;34m,\u001b[0m\u001b[0mrelable\u001b[0m\u001b[0;34m)\u001b[0m\u001b[0;34m)\u001b[0m\u001b[0;34m\u001b[0m\u001b[0m\n",
      "\u001b[0;31mNameError\u001b[0m: name 'km_mfcc' is not defined"
     ]
    }
   ],
   "source": [
    "relable = np.choose(km_mfcc.labels_,[1,0,2]).astype(np.int64)\n",
    "print (classification_report(y_mfcc,relable))"
   ]
  },
  {
   "cell_type": "markdown",
   "metadata": {
    "colab_type": "text",
    "id": "elUTPrBZ1iuC"
   },
   "source": [
    "### combined feature clustering"
   ]
  },
  {
   "cell_type": "code",
   "execution_count": 23,
   "metadata": {
    "colab": {
     "autoexec": {
      "startup": false,
      "wait_interval": 0
     }
    },
    "colab_type": "code",
    "id": "dnUdnMW_1lPG"
   },
   "outputs": [],
   "source": [
    "X_combined = np.vstack((s_combined,m_combined))\n",
    "y_combined = np.array([0]*len(s_combined) + [1]*len(m_combined))"
   ]
  },
  {
   "cell_type": "code",
   "execution_count": 61,
   "metadata": {
    "colab": {
     "autoexec": {
      "startup": false,
      "wait_interval": 0
     }
    },
    "colab_type": "code",
    "id": "WfzqfdPx3c0k"
   },
   "outputs": [],
   "source": [
    "km_combined = KMeans(n_clusters=3)\n",
    "labels_combined = km_mfcc.fit_predict(X_combined)"
   ]
  },
  {
   "cell_type": "code",
   "execution_count": 62,
   "metadata": {
    "colab": {
     "autoexec": {
      "startup": false,
      "wait_interval": 0
     },
     "base_uri": "https://localhost:8080/",
     "height": 34
    },
    "colab_type": "code",
    "executionInfo": {
     "elapsed": 822,
     "status": "ok",
     "timestamp": 1524307147896,
     "user": {
      "displayName": "Claude Betz",
      "photoUrl": "https://lh3.googleusercontent.com/a/default-user=s128",
      "userId": "113888807371476882865"
     },
     "user_tz": -120
    },
    "id": "kb2lqrkt3l28",
    "outputId": "540e7462-fd20-472d-9c46-f89169f26dbc"
   },
   "outputs": [
    {
     "data": {
      "text/plain": [
       "array([0, 0, 0, 0, 1, 1, 1, 2, 2, 2])"
      ]
     },
     "execution_count": 62,
     "metadata": {},
     "output_type": "execute_result"
    }
   ],
   "source": [
    "y_combined"
   ]
  },
  {
   "cell_type": "code",
   "execution_count": 63,
   "metadata": {
    "colab": {
     "autoexec": {
      "startup": false,
      "wait_interval": 0
     },
     "base_uri": "https://localhost:8080/",
     "height": 34
    },
    "colab_type": "code",
    "executionInfo": {
     "elapsed": 1564,
     "status": "ok",
     "timestamp": 1524307149642,
     "user": {
      "displayName": "Claude Betz",
      "photoUrl": "https://lh3.googleusercontent.com/a/default-user=s128",
      "userId": "113888807371476882865"
     },
     "user_tz": -120
    },
    "id": "IZ6hywsx3oBW",
    "outputId": "7450a2c3-193e-4f53-a0fa-bddd6884e9e7"
   },
   "outputs": [
    {
     "data": {
      "text/plain": [
       "array([1, 1, 1, 2, 1, 1, 1, 2, 1, 0], dtype=int32)"
      ]
     },
     "execution_count": 63,
     "metadata": {},
     "output_type": "execute_result"
    }
   ],
   "source": [
    "labels_combined"
   ]
  },
  {
   "cell_type": "code",
   "execution_count": null,
   "metadata": {
    "colab": {
     "autoexec": {
      "startup": false,
      "wait_interval": 0
     }
    },
    "colab_type": "code",
    "id": "1GVQuGww3q3O"
   },
   "outputs": [],
   "source": []
  },
  {
   "cell_type": "code",
   "execution_count": null,
   "metadata": {},
   "outputs": [],
   "source": []
  },
  {
   "cell_type": "code",
   "execution_count": 25,
   "metadata": {},
   "outputs": [],
   "source": [
    "import numpy as np\n",
    "import scipy\n",
    "import dropbox\n",
    "%matplotlib inline\n",
    "from functools import partial\n",
    "from scipy.fftpack import dct\n",
    "from scipy.signal import welch\n",
    "from sklearn.cluster import KMeans\n",
    "from sklearn.mixture import GaussianMixture\n",
    "from sklearn.preprocessing import StandardScaler\n",
    "from sklearn.svm import LinearSVC, SVC\n",
    "from sklearn.neural_network import MLPClassifier\n",
    "#from xgboost import XGBClassifier\n",
    "from sklearn.model_selection import train_test_split\n",
    "from sklearn.metrics import v_measure_score\n",
    "from sklearn import metrics\n",
    "from sklearn.model_selection import cross_validate\n",
    "from sklearn.pipeline import make_pipeline\n",
    "from sklearn.manifold import TSNE\n",
    "from sklearn.decomposition import PCA\n",
    "import pandas as pd"
   ]
  },
  {
   "cell_type": "markdown",
   "metadata": {},
   "source": [
    "## Supervised Model"
   ]
  },
  {
   "cell_type": "code",
   "execution_count": 26,
   "metadata": {},
   "outputs": [],
   "source": [
    "def eval_model(X, y, model_fn=SVC, test_size=0.33, standard_scale=False):\n",
    "    X_train, X_test, y_train, y_test = train_test_split(X, y, test_size=0.33)\n",
    "    if standard_scale:\n",
    "        scaler = StandardScaler()\n",
    "        X_train = scaler.fit_transform(X_train)\n",
    "        X_test = scaler.transform(X_test)\n",
    "    model = model_fn()\n",
    "    model.fit(X_train, y_train)\n",
    "    y_pred = model.predict(X_test)\n",
    "    print(\"Accuracy:\", metrics.accuracy_score(y_test, y_pred))\n",
    "    print(\"Precision:\", metrics.precision_score(y_test, y_pred, average='macro'))\n",
    "    print(\"Recall:\", metrics.recall_score(y_test, y_pred, average='macro'))\n",
    "    return model"
   ]
  },
  {
   "cell_type": "markdown",
   "metadata": {},
   "source": [
    "## lowlevel"
   ]
  },
  {
   "cell_type": "code",
   "execution_count": 27,
   "metadata": {},
   "outputs": [
    {
     "name": "stdout",
     "output_type": "stream",
     "text": [
      "Average test_accuracy: 0.814\n",
      "Standard deviation of test_accuracy: 0.058\n",
      "\n",
      "Average train_accuracy: 0.863\n",
      "Standard deviation of train_accuracy: 0.011\n",
      "\n",
      "Average test_precision: 0.776\n",
      "Standard deviation of test_precision: 0.083\n",
      "\n",
      "Average train_precision: 0.826\n",
      "Standard deviation of train_precision: 0.013\n",
      "\n",
      "Average test_recall: 0.906\n",
      "Standard deviation of test_recall: 0.028\n",
      "\n",
      "Average train_recall: 0.919\n",
      "Standard deviation of train_recall: 0.010\n",
      "\n"
     ]
    },
    {
     "name": "stderr",
     "output_type": "stream",
     "text": [
      "/home/betz/anaconda3/lib/python3.6/site-packages/sklearn/utils/deprecation.py:122: FutureWarning: You are accessing a training score ('train_accuracy'), which will not be available by default any more in 0.21. If you need training scores, please set return_train_score=True\n",
      "  warnings.warn(*warn_args, **warn_kwargs)\n",
      "/home/betz/anaconda3/lib/python3.6/site-packages/sklearn/utils/deprecation.py:122: FutureWarning: You are accessing a training score ('train_precision'), which will not be available by default any more in 0.21. If you need training scores, please set return_train_score=True\n",
      "  warnings.warn(*warn_args, **warn_kwargs)\n",
      "/home/betz/anaconda3/lib/python3.6/site-packages/sklearn/utils/deprecation.py:122: FutureWarning: You are accessing a training score ('train_recall'), which will not be available by default any more in 0.21. If you need training scores, please set return_train_score=True\n",
      "  warnings.warn(*warn_args, **warn_kwargs)\n"
     ]
    }
   ],
   "source": [
    "pipeline = make_pipeline(StandardScaler(), SVC())\n",
    "cv_results = cross_validate(pipeline, X_ll, y_ll, cv=3,\n",
    "                            scoring=('accuracy', 'precision', 'recall'))\n",
    "\n",
    "for key in [key for key in cv_results.keys() if key.startswith('test') or key.startswith('train')]:\n",
    "    print(\"Average %s: %.3f\" % (key, cv_results[key].mean()))\n",
    "    print(\"Standard deviation of %s: %.3f\\n\" % (key, cv_results[key].std()))\n",
    "\n",
    "#     print \"Test scores:\\n\", cv_results['test_score']\n",
    "#     print \"Average test accuracy: %.3f\" % cv_results['test_score'].mean()\n",
    "#     print \"Standard deviation of test accuracy: %.3f\" % cv_results['test_score'].std()"
   ]
  },
  {
   "cell_type": "markdown",
   "metadata": {},
   "source": [
    "## MFCC"
   ]
  },
  {
   "cell_type": "code",
   "execution_count": 28,
   "metadata": {},
   "outputs": [
    {
     "name": "stdout",
     "output_type": "stream",
     "text": [
      "Average test_accuracy: 0.803\n",
      "Standard deviation of test_accuracy: 0.029\n",
      "\n",
      "Average train_accuracy: 0.956\n",
      "Standard deviation of train_accuracy: 0.002\n",
      "\n",
      "Average test_precision: 0.828\n",
      "Standard deviation of test_precision: 0.046\n",
      "\n",
      "Average train_precision: 0.961\n",
      "Standard deviation of train_precision: 0.000\n",
      "\n",
      "Average test_recall: 0.771\n",
      "Standard deviation of test_recall: 0.045\n",
      "\n",
      "Average train_recall: 0.952\n",
      "Standard deviation of train_recall: 0.005\n",
      "\n"
     ]
    },
    {
     "name": "stderr",
     "output_type": "stream",
     "text": [
      "/home/betz/anaconda3/lib/python3.6/site-packages/sklearn/utils/deprecation.py:122: FutureWarning: You are accessing a training score ('train_accuracy'), which will not be available by default any more in 0.21. If you need training scores, please set return_train_score=True\n",
      "  warnings.warn(*warn_args, **warn_kwargs)\n",
      "/home/betz/anaconda3/lib/python3.6/site-packages/sklearn/utils/deprecation.py:122: FutureWarning: You are accessing a training score ('train_precision'), which will not be available by default any more in 0.21. If you need training scores, please set return_train_score=True\n",
      "  warnings.warn(*warn_args, **warn_kwargs)\n",
      "/home/betz/anaconda3/lib/python3.6/site-packages/sklearn/utils/deprecation.py:122: FutureWarning: You are accessing a training score ('train_recall'), which will not be available by default any more in 0.21. If you need training scores, please set return_train_score=True\n",
      "  warnings.warn(*warn_args, **warn_kwargs)\n"
     ]
    }
   ],
   "source": [
    "pipeline = make_pipeline(StandardScaler(), SVC())\n",
    "cv_results = cross_validate(pipeline, X_mfcc, y_mfcc, cv=3,\n",
    "                            scoring=('accuracy', 'precision', 'recall'))\n",
    "\n",
    "for key in [key for key in cv_results.keys() if key.startswith('test') or key.startswith('train')]:\n",
    "    print(\"Average %s: %.3f\" % (key, cv_results[key].mean()))\n",
    "    print(\"Standard deviation of %s: %.3f\\n\" % (key, cv_results[key].std()))\n",
    "\n",
    "#     print \"Test scores:\\n\", cv_results['test_score']\n",
    "#     print \"Average test accuracy: %.3f\" % cv_results['test_score'].mean()\n",
    "#     print \"Standard deviation of test accuracy: %.3f\" % cv_results['test_score'].std()"
   ]
  },
  {
   "cell_type": "markdown",
   "metadata": {},
   "source": [
    "## Combined"
   ]
  },
  {
   "cell_type": "code",
   "execution_count": 29,
   "metadata": {},
   "outputs": [
    {
     "name": "stdout",
     "output_type": "stream",
     "text": [
      "Average test_accuracy: 0.908\n",
      "Standard deviation of test_accuracy: 0.021\n",
      "\n",
      "Average train_accuracy: 0.990\n",
      "Standard deviation of train_accuracy: 0.003\n",
      "\n",
      "Average test_precision: 0.893\n",
      "Standard deviation of test_precision: 0.031\n",
      "\n",
      "Average train_precision: 0.983\n",
      "Standard deviation of train_precision: 0.005\n",
      "\n",
      "Average test_recall: 0.927\n",
      "Standard deviation of test_recall: 0.022\n",
      "\n",
      "Average train_recall: 0.996\n",
      "Standard deviation of train_recall: 0.003\n",
      "\n"
     ]
    },
    {
     "name": "stderr",
     "output_type": "stream",
     "text": [
      "/home/betz/anaconda3/lib/python3.6/site-packages/sklearn/utils/deprecation.py:122: FutureWarning: You are accessing a training score ('train_accuracy'), which will not be available by default any more in 0.21. If you need training scores, please set return_train_score=True\n",
      "  warnings.warn(*warn_args, **warn_kwargs)\n",
      "/home/betz/anaconda3/lib/python3.6/site-packages/sklearn/utils/deprecation.py:122: FutureWarning: You are accessing a training score ('train_precision'), which will not be available by default any more in 0.21. If you need training scores, please set return_train_score=True\n",
      "  warnings.warn(*warn_args, **warn_kwargs)\n",
      "/home/betz/anaconda3/lib/python3.6/site-packages/sklearn/utils/deprecation.py:122: FutureWarning: You are accessing a training score ('train_recall'), which will not be available by default any more in 0.21. If you need training scores, please set return_train_score=True\n",
      "  warnings.warn(*warn_args, **warn_kwargs)\n"
     ]
    }
   ],
   "source": [
    "pipeline = make_pipeline(StandardScaler(), SVC())\n",
    "cv_results = cross_validate(pipeline, X_combined, y_combined, cv=3,\n",
    "                            scoring=('accuracy', 'precision', 'recall'))\n",
    "\n",
    "for key in [key for key in cv_results.keys() if key.startswith('test') or key.startswith('train')]:\n",
    "    print(\"Average %s: %.3f\" % (key, cv_results[key].mean()))\n",
    "    print(\"Standard deviation of %s: %.3f\\n\" % (key, cv_results[key].std()))\n",
    "\n",
    "#     print \"Test scores:\\n\", cv_results['test_score']\n",
    "#     print \"Average test accuracy: %.3f\" % cv_results['test_score'].mean()\n",
    "#     print \"Standard deviation of test accuracy: %.3f\" % cv_results['test_score'].std()"
   ]
  },
  {
   "cell_type": "code",
   "execution_count": null,
   "metadata": {},
   "outputs": [],
   "source": []
  }
 ],
 "metadata": {
  "colab": {
   "collapsed_sections": [],
   "default_view": {},
   "name": "classification.ipynb",
   "provenance": [],
   "version": "0.3.2",
   "views": {}
  },
  "kernelspec": {
   "display_name": "Python 3",
   "language": "python",
   "name": "python3"
  },
  "language_info": {
   "codemirror_mode": {
    "name": "ipython",
    "version": 3
   },
   "file_extension": ".py",
   "mimetype": "text/x-python",
   "name": "python",
   "nbconvert_exporter": "python",
   "pygments_lexer": "ipython3",
   "version": "3.6.4"
  }
 },
 "nbformat": 4,
 "nbformat_minor": 1
}
